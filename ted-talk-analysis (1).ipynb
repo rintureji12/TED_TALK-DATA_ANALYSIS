{
 "cells": [
  {
   "cell_type": "code",
   "execution_count": 1,
   "id": "1650a828",
   "metadata": {
    "_cell_guid": "b1076dfc-b9ad-4769-8c92-a6c4dae69d19",
    "_uuid": "8f2839f25d086af736a60e9eeb907d3b93b6e0e5",
    "execution": {
     "iopub.execute_input": "2022-05-06T15:30:01.328037Z",
     "iopub.status.busy": "2022-05-06T15:30:01.327228Z",
     "iopub.status.idle": "2022-05-06T15:30:01.349838Z",
     "shell.execute_reply": "2022-05-06T15:30:01.349131Z"
    },
    "papermill": {
     "duration": 0.067604,
     "end_time": "2022-05-06T15:30:01.352942",
     "exception": false,
     "start_time": "2022-05-06T15:30:01.285338",
     "status": "completed"
    },
    "tags": []
   },
   "outputs": [
    {
     "name": "stdout",
     "output_type": "stream",
     "text": [
      "/kaggle/input/ted-talks/data.csv\n"
     ]
    }
   ],
   "source": [
    "# This Python 3 environment comes with many helpful analytics libraries installed\n",
    "# It is defined by the kaggle/python Docker image: https://github.com/kaggle/docker-python\n",
    "# For example, here's several helpful packages to load\n",
    "\n",
    "import numpy as np # linear algebra\n",
    "import pandas as pd # data processing, CSV file I/O (e.g. pd.read_csv)\n",
    "\n",
    "# Input data files are available in the read-only \"../input/\" directory\n",
    "# For example, running this (by clicking run or pressing Shift+Enter) will list all files under the input directory\n",
    "\n",
    "import os\n",
    "for dirname, _, filenames in os.walk('/kaggle/input'):\n",
    "    for filename in filenames:\n",
    "        print(os.path.join(dirname, filename))\n",
    "\n",
    "# You can write up to 20GB to the current directory (/kaggle/working/) that gets preserved as output when you create a version using \"Save & Run All\" \n",
    "# You can also write temporary files to /kaggle/temp/, but they won't be saved outside of the current session"
   ]
  },
  {
   "cell_type": "code",
   "execution_count": 2,
   "id": "53b32456",
   "metadata": {
    "execution": {
     "iopub.execute_input": "2022-05-06T15:30:01.435640Z",
     "iopub.status.busy": "2022-05-06T15:30:01.435075Z",
     "iopub.status.idle": "2022-05-06T15:30:01.490276Z",
     "shell.execute_reply": "2022-05-06T15:30:01.489599Z"
    },
    "papermill": {
     "duration": 0.098456,
     "end_time": "2022-05-06T15:30:01.492614",
     "exception": false,
     "start_time": "2022-05-06T15:30:01.394158",
     "status": "completed"
    },
    "tags": []
   },
   "outputs": [],
   "source": [
    "df=pd.read_csv('/kaggle/input/ted-talks/data.csv')"
   ]
  },
  {
   "cell_type": "code",
   "execution_count": 3,
   "id": "8871af36",
   "metadata": {
    "execution": {
     "iopub.execute_input": "2022-05-06T15:30:01.573505Z",
     "iopub.status.busy": "2022-05-06T15:30:01.572963Z",
     "iopub.status.idle": "2022-05-06T15:30:01.600272Z",
     "shell.execute_reply": "2022-05-06T15:30:01.599599Z"
    },
    "papermill": {
     "duration": 0.071135,
     "end_time": "2022-05-06T15:30:01.603088",
     "exception": false,
     "start_time": "2022-05-06T15:30:01.531953",
     "status": "completed"
    },
    "tags": []
   },
   "outputs": [
    {
     "data": {
      "text/html": [
       "<div>\n",
       "<style scoped>\n",
       "    .dataframe tbody tr th:only-of-type {\n",
       "        vertical-align: middle;\n",
       "    }\n",
       "\n",
       "    .dataframe tbody tr th {\n",
       "        vertical-align: top;\n",
       "    }\n",
       "\n",
       "    .dataframe thead th {\n",
       "        text-align: right;\n",
       "    }\n",
       "</style>\n",
       "<table border=\"1\" class=\"dataframe\">\n",
       "  <thead>\n",
       "    <tr style=\"text-align: right;\">\n",
       "      <th></th>\n",
       "      <th>title</th>\n",
       "      <th>author</th>\n",
       "      <th>date</th>\n",
       "      <th>views</th>\n",
       "      <th>likes</th>\n",
       "      <th>link</th>\n",
       "    </tr>\n",
       "  </thead>\n",
       "  <tbody>\n",
       "    <tr>\n",
       "      <th>0</th>\n",
       "      <td>Climate action needs new frontline leadership</td>\n",
       "      <td>Ozawa Bineshi Albert</td>\n",
       "      <td>December 2021</td>\n",
       "      <td>404000</td>\n",
       "      <td>12000</td>\n",
       "      <td>https://ted.com/talks/ozawa_bineshi_albert_cli...</td>\n",
       "    </tr>\n",
       "    <tr>\n",
       "      <th>1</th>\n",
       "      <td>The dark history of the overthrow of Hawaii</td>\n",
       "      <td>Sydney Iaukea</td>\n",
       "      <td>February 2022</td>\n",
       "      <td>214000</td>\n",
       "      <td>6400</td>\n",
       "      <td>https://ted.com/talks/sydney_iaukea_the_dark_h...</td>\n",
       "    </tr>\n",
       "    <tr>\n",
       "      <th>2</th>\n",
       "      <td>How play can spark new ideas for your business</td>\n",
       "      <td>Martin Reeves</td>\n",
       "      <td>September 2021</td>\n",
       "      <td>412000</td>\n",
       "      <td>12000</td>\n",
       "      <td>https://ted.com/talks/martin_reeves_how_play_c...</td>\n",
       "    </tr>\n",
       "    <tr>\n",
       "      <th>3</th>\n",
       "      <td>Why is China appointing judges to combat clima...</td>\n",
       "      <td>James K. Thornton</td>\n",
       "      <td>October 2021</td>\n",
       "      <td>427000</td>\n",
       "      <td>12000</td>\n",
       "      <td>https://ted.com/talks/james_k_thornton_why_is_...</td>\n",
       "    </tr>\n",
       "    <tr>\n",
       "      <th>4</th>\n",
       "      <td>Cement's carbon problem — and 2 ways to fix it</td>\n",
       "      <td>Mahendra Singhi</td>\n",
       "      <td>October 2021</td>\n",
       "      <td>2400</td>\n",
       "      <td>72</td>\n",
       "      <td>https://ted.com/talks/mahendra_singhi_cement_s...</td>\n",
       "    </tr>\n",
       "    <tr>\n",
       "      <th>...</th>\n",
       "      <td>...</td>\n",
       "      <td>...</td>\n",
       "      <td>...</td>\n",
       "      <td>...</td>\n",
       "      <td>...</td>\n",
       "      <td>...</td>\n",
       "    </tr>\n",
       "    <tr>\n",
       "      <th>5435</th>\n",
       "      <td>The best stats you've ever seen</td>\n",
       "      <td>Hans Rosling</td>\n",
       "      <td>February 2006</td>\n",
       "      <td>15000000</td>\n",
       "      <td>458000</td>\n",
       "      <td>https://ted.com/talks/hans_rosling_the_best_st...</td>\n",
       "    </tr>\n",
       "    <tr>\n",
       "      <th>5436</th>\n",
       "      <td>Do schools kill creativity?</td>\n",
       "      <td>Sir Ken Robinson</td>\n",
       "      <td>February 2006</td>\n",
       "      <td>72000000</td>\n",
       "      <td>2100000</td>\n",
       "      <td>https://ted.com/talks/sir_ken_robinson_do_scho...</td>\n",
       "    </tr>\n",
       "    <tr>\n",
       "      <th>5437</th>\n",
       "      <td>Greening the ghetto</td>\n",
       "      <td>Majora Carter</td>\n",
       "      <td>February 2006</td>\n",
       "      <td>2900000</td>\n",
       "      <td>88000</td>\n",
       "      <td>https://ted.com/talks/majora_carter_greening_t...</td>\n",
       "    </tr>\n",
       "    <tr>\n",
       "      <th>5438</th>\n",
       "      <td>Simplicity sells</td>\n",
       "      <td>David Pogue</td>\n",
       "      <td>February 2006</td>\n",
       "      <td>2000000</td>\n",
       "      <td>60000</td>\n",
       "      <td>https://ted.com/talks/david_pogue_simplicity_s...</td>\n",
       "    </tr>\n",
       "    <tr>\n",
       "      <th>5439</th>\n",
       "      <td>Averting the climate crisis</td>\n",
       "      <td>Al Gore</td>\n",
       "      <td>February 2006</td>\n",
       "      <td>3600000</td>\n",
       "      <td>109000</td>\n",
       "      <td>https://ted.com/talks/al_gore_averting_the_cli...</td>\n",
       "    </tr>\n",
       "  </tbody>\n",
       "</table>\n",
       "<p>5440 rows × 6 columns</p>\n",
       "</div>"
      ],
      "text/plain": [
       "                                                  title                author  \\\n",
       "0         Climate action needs new frontline leadership  Ozawa Bineshi Albert   \n",
       "1           The dark history of the overthrow of Hawaii         Sydney Iaukea   \n",
       "2        How play can spark new ideas for your business         Martin Reeves   \n",
       "3     Why is China appointing judges to combat clima...     James K. Thornton   \n",
       "4        Cement's carbon problem — and 2 ways to fix it       Mahendra Singhi   \n",
       "...                                                 ...                   ...   \n",
       "5435                    The best stats you've ever seen          Hans Rosling   \n",
       "5436                        Do schools kill creativity?      Sir Ken Robinson   \n",
       "5437                                Greening the ghetto         Majora Carter   \n",
       "5438                                   Simplicity sells           David Pogue   \n",
       "5439                        Averting the climate crisis               Al Gore   \n",
       "\n",
       "                date     views    likes  \\\n",
       "0      December 2021    404000    12000   \n",
       "1      February 2022    214000     6400   \n",
       "2     September 2021    412000    12000   \n",
       "3       October 2021    427000    12000   \n",
       "4       October 2021      2400       72   \n",
       "...              ...       ...      ...   \n",
       "5435   February 2006  15000000   458000   \n",
       "5436   February 2006  72000000  2100000   \n",
       "5437   February 2006   2900000    88000   \n",
       "5438   February 2006   2000000    60000   \n",
       "5439   February 2006   3600000   109000   \n",
       "\n",
       "                                                   link  \n",
       "0     https://ted.com/talks/ozawa_bineshi_albert_cli...  \n",
       "1     https://ted.com/talks/sydney_iaukea_the_dark_h...  \n",
       "2     https://ted.com/talks/martin_reeves_how_play_c...  \n",
       "3     https://ted.com/talks/james_k_thornton_why_is_...  \n",
       "4     https://ted.com/talks/mahendra_singhi_cement_s...  \n",
       "...                                                 ...  \n",
       "5435  https://ted.com/talks/hans_rosling_the_best_st...  \n",
       "5436  https://ted.com/talks/sir_ken_robinson_do_scho...  \n",
       "5437  https://ted.com/talks/majora_carter_greening_t...  \n",
       "5438  https://ted.com/talks/david_pogue_simplicity_s...  \n",
       "5439  https://ted.com/talks/al_gore_averting_the_cli...  \n",
       "\n",
       "[5440 rows x 6 columns]"
      ]
     },
     "execution_count": 3,
     "metadata": {},
     "output_type": "execute_result"
    }
   ],
   "source": [
    "df"
   ]
  },
  {
   "cell_type": "code",
   "execution_count": 4,
   "id": "7f4945d1",
   "metadata": {
    "execution": {
     "iopub.execute_input": "2022-05-06T15:30:01.687282Z",
     "iopub.status.busy": "2022-05-06T15:30:01.686729Z",
     "iopub.status.idle": "2022-05-06T15:30:01.696639Z",
     "shell.execute_reply": "2022-05-06T15:30:01.696007Z"
    },
    "papermill": {
     "duration": 0.052956,
     "end_time": "2022-05-06T15:30:01.698703",
     "exception": false,
     "start_time": "2022-05-06T15:30:01.645747",
     "status": "completed"
    },
    "tags": []
   },
   "outputs": [
    {
     "data": {
      "text/plain": [
       "title     0\n",
       "author    1\n",
       "date      0\n",
       "views     0\n",
       "likes     0\n",
       "link      0\n",
       "dtype: int64"
      ]
     },
     "execution_count": 4,
     "metadata": {},
     "output_type": "execute_result"
    }
   ],
   "source": [
    "#checking for null values\n",
    "df.isnull().sum()"
   ]
  },
  {
   "cell_type": "code",
   "execution_count": 5,
   "id": "0d7c8712",
   "metadata": {
    "execution": {
     "iopub.execute_input": "2022-05-06T15:30:01.779982Z",
     "iopub.status.busy": "2022-05-06T15:30:01.779671Z",
     "iopub.status.idle": "2022-05-06T15:30:01.791570Z",
     "shell.execute_reply": "2022-05-06T15:30:01.790945Z"
    },
    "papermill": {
     "duration": 0.054889,
     "end_time": "2022-05-06T15:30:01.793468",
     "exception": false,
     "start_time": "2022-05-06T15:30:01.738579",
     "status": "completed"
    },
    "tags": []
   },
   "outputs": [],
   "source": [
    "#dropping null rows\n",
    "df=df.dropna()"
   ]
  },
  {
   "cell_type": "code",
   "execution_count": 6,
   "id": "dabc62a4",
   "metadata": {
    "execution": {
     "iopub.execute_input": "2022-05-06T15:30:01.877211Z",
     "iopub.status.busy": "2022-05-06T15:30:01.876730Z",
     "iopub.status.idle": "2022-05-06T15:30:01.891340Z",
     "shell.execute_reply": "2022-05-06T15:30:01.890623Z"
    },
    "papermill": {
     "duration": 0.058853,
     "end_time": "2022-05-06T15:30:01.893182",
     "exception": false,
     "start_time": "2022-05-06T15:30:01.834329",
     "status": "completed"
    },
    "tags": []
   },
   "outputs": [
    {
     "data": {
      "text/html": [
       "<div>\n",
       "<style scoped>\n",
       "    .dataframe tbody tr th:only-of-type {\n",
       "        vertical-align: middle;\n",
       "    }\n",
       "\n",
       "    .dataframe tbody tr th {\n",
       "        vertical-align: top;\n",
       "    }\n",
       "\n",
       "    .dataframe thead th {\n",
       "        text-align: right;\n",
       "    }\n",
       "</style>\n",
       "<table border=\"1\" class=\"dataframe\">\n",
       "  <thead>\n",
       "    <tr style=\"text-align: right;\">\n",
       "      <th></th>\n",
       "      <th>title</th>\n",
       "      <th>author</th>\n",
       "      <th>date</th>\n",
       "      <th>views</th>\n",
       "      <th>likes</th>\n",
       "      <th>link</th>\n",
       "    </tr>\n",
       "  </thead>\n",
       "  <tbody>\n",
       "    <tr>\n",
       "      <th>0</th>\n",
       "      <td>Climate action needs new frontline leadership</td>\n",
       "      <td>Ozawa Bineshi Albert</td>\n",
       "      <td>December 2021</td>\n",
       "      <td>404000</td>\n",
       "      <td>12000</td>\n",
       "      <td>https://ted.com/talks/ozawa_bineshi_albert_cli...</td>\n",
       "    </tr>\n",
       "    <tr>\n",
       "      <th>1</th>\n",
       "      <td>The dark history of the overthrow of Hawaii</td>\n",
       "      <td>Sydney Iaukea</td>\n",
       "      <td>February 2022</td>\n",
       "      <td>214000</td>\n",
       "      <td>6400</td>\n",
       "      <td>https://ted.com/talks/sydney_iaukea_the_dark_h...</td>\n",
       "    </tr>\n",
       "    <tr>\n",
       "      <th>2</th>\n",
       "      <td>How play can spark new ideas for your business</td>\n",
       "      <td>Martin Reeves</td>\n",
       "      <td>September 2021</td>\n",
       "      <td>412000</td>\n",
       "      <td>12000</td>\n",
       "      <td>https://ted.com/talks/martin_reeves_how_play_c...</td>\n",
       "    </tr>\n",
       "    <tr>\n",
       "      <th>3</th>\n",
       "      <td>Why is China appointing judges to combat clima...</td>\n",
       "      <td>James K. Thornton</td>\n",
       "      <td>October 2021</td>\n",
       "      <td>427000</td>\n",
       "      <td>12000</td>\n",
       "      <td>https://ted.com/talks/james_k_thornton_why_is_...</td>\n",
       "    </tr>\n",
       "    <tr>\n",
       "      <th>4</th>\n",
       "      <td>Cement's carbon problem — and 2 ways to fix it</td>\n",
       "      <td>Mahendra Singhi</td>\n",
       "      <td>October 2021</td>\n",
       "      <td>2400</td>\n",
       "      <td>72</td>\n",
       "      <td>https://ted.com/talks/mahendra_singhi_cement_s...</td>\n",
       "    </tr>\n",
       "    <tr>\n",
       "      <th>...</th>\n",
       "      <td>...</td>\n",
       "      <td>...</td>\n",
       "      <td>...</td>\n",
       "      <td>...</td>\n",
       "      <td>...</td>\n",
       "      <td>...</td>\n",
       "    </tr>\n",
       "    <tr>\n",
       "      <th>5435</th>\n",
       "      <td>The best stats you've ever seen</td>\n",
       "      <td>Hans Rosling</td>\n",
       "      <td>February 2006</td>\n",
       "      <td>15000000</td>\n",
       "      <td>458000</td>\n",
       "      <td>https://ted.com/talks/hans_rosling_the_best_st...</td>\n",
       "    </tr>\n",
       "    <tr>\n",
       "      <th>5436</th>\n",
       "      <td>Do schools kill creativity?</td>\n",
       "      <td>Sir Ken Robinson</td>\n",
       "      <td>February 2006</td>\n",
       "      <td>72000000</td>\n",
       "      <td>2100000</td>\n",
       "      <td>https://ted.com/talks/sir_ken_robinson_do_scho...</td>\n",
       "    </tr>\n",
       "    <tr>\n",
       "      <th>5437</th>\n",
       "      <td>Greening the ghetto</td>\n",
       "      <td>Majora Carter</td>\n",
       "      <td>February 2006</td>\n",
       "      <td>2900000</td>\n",
       "      <td>88000</td>\n",
       "      <td>https://ted.com/talks/majora_carter_greening_t...</td>\n",
       "    </tr>\n",
       "    <tr>\n",
       "      <th>5438</th>\n",
       "      <td>Simplicity sells</td>\n",
       "      <td>David Pogue</td>\n",
       "      <td>February 2006</td>\n",
       "      <td>2000000</td>\n",
       "      <td>60000</td>\n",
       "      <td>https://ted.com/talks/david_pogue_simplicity_s...</td>\n",
       "    </tr>\n",
       "    <tr>\n",
       "      <th>5439</th>\n",
       "      <td>Averting the climate crisis</td>\n",
       "      <td>Al Gore</td>\n",
       "      <td>February 2006</td>\n",
       "      <td>3600000</td>\n",
       "      <td>109000</td>\n",
       "      <td>https://ted.com/talks/al_gore_averting_the_cli...</td>\n",
       "    </tr>\n",
       "  </tbody>\n",
       "</table>\n",
       "<p>5439 rows × 6 columns</p>\n",
       "</div>"
      ],
      "text/plain": [
       "                                                  title                author  \\\n",
       "0         Climate action needs new frontline leadership  Ozawa Bineshi Albert   \n",
       "1           The dark history of the overthrow of Hawaii         Sydney Iaukea   \n",
       "2        How play can spark new ideas for your business         Martin Reeves   \n",
       "3     Why is China appointing judges to combat clima...     James K. Thornton   \n",
       "4        Cement's carbon problem — and 2 ways to fix it       Mahendra Singhi   \n",
       "...                                                 ...                   ...   \n",
       "5435                    The best stats you've ever seen          Hans Rosling   \n",
       "5436                        Do schools kill creativity?      Sir Ken Robinson   \n",
       "5437                                Greening the ghetto         Majora Carter   \n",
       "5438                                   Simplicity sells           David Pogue   \n",
       "5439                        Averting the climate crisis               Al Gore   \n",
       "\n",
       "                date     views    likes  \\\n",
       "0      December 2021    404000    12000   \n",
       "1      February 2022    214000     6400   \n",
       "2     September 2021    412000    12000   \n",
       "3       October 2021    427000    12000   \n",
       "4       October 2021      2400       72   \n",
       "...              ...       ...      ...   \n",
       "5435   February 2006  15000000   458000   \n",
       "5436   February 2006  72000000  2100000   \n",
       "5437   February 2006   2900000    88000   \n",
       "5438   February 2006   2000000    60000   \n",
       "5439   February 2006   3600000   109000   \n",
       "\n",
       "                                                   link  \n",
       "0     https://ted.com/talks/ozawa_bineshi_albert_cli...  \n",
       "1     https://ted.com/talks/sydney_iaukea_the_dark_h...  \n",
       "2     https://ted.com/talks/martin_reeves_how_play_c...  \n",
       "3     https://ted.com/talks/james_k_thornton_why_is_...  \n",
       "4     https://ted.com/talks/mahendra_singhi_cement_s...  \n",
       "...                                                 ...  \n",
       "5435  https://ted.com/talks/hans_rosling_the_best_st...  \n",
       "5436  https://ted.com/talks/sir_ken_robinson_do_scho...  \n",
       "5437  https://ted.com/talks/majora_carter_greening_t...  \n",
       "5438  https://ted.com/talks/david_pogue_simplicity_s...  \n",
       "5439  https://ted.com/talks/al_gore_averting_the_cli...  \n",
       "\n",
       "[5439 rows x 6 columns]"
      ]
     },
     "execution_count": 6,
     "metadata": {},
     "output_type": "execute_result"
    }
   ],
   "source": [
    "df\n",
    "#one row is being removed"
   ]
  },
  {
   "cell_type": "code",
   "execution_count": 7,
   "id": "4574adbf",
   "metadata": {
    "execution": {
     "iopub.execute_input": "2022-05-06T15:30:01.977382Z",
     "iopub.status.busy": "2022-05-06T15:30:01.976891Z",
     "iopub.status.idle": "2022-05-06T15:30:01.984386Z",
     "shell.execute_reply": "2022-05-06T15:30:01.983612Z"
    },
    "papermill": {
     "duration": 0.053501,
     "end_time": "2022-05-06T15:30:01.987188",
     "exception": false,
     "start_time": "2022-05-06T15:30:01.933687",
     "status": "completed"
    },
    "tags": []
   },
   "outputs": [
    {
     "data": {
      "text/plain": [
       "array([['Climate action needs new frontline leadership',\n",
       "        'Ozawa Bineshi Albert', 'December 2021', 404000, 12000,\n",
       "        'https://ted.com/talks/ozawa_bineshi_albert_climate_action_needs_new_frontline_leadership'],\n",
       "       ['The dark history of the overthrow of Hawaii', 'Sydney Iaukea',\n",
       "        'February 2022', 214000, 6400,\n",
       "        'https://ted.com/talks/sydney_iaukea_the_dark_history_of_the_overthrow_of_hawaii'],\n",
       "       ['How play can spark new ideas for your business',\n",
       "        'Martin Reeves', 'September 2021', 412000, 12000,\n",
       "        'https://ted.com/talks/martin_reeves_how_play_can_spark_new_ideas_for_your_business'],\n",
       "       ...,\n",
       "       ['Greening the ghetto', 'Majora Carter', 'February 2006', 2900000,\n",
       "        88000, 'https://ted.com/talks/majora_carter_greening_the_ghetto'],\n",
       "       ['Simplicity sells', 'David Pogue', 'February 2006', 2000000,\n",
       "        60000, 'https://ted.com/talks/david_pogue_simplicity_sells'],\n",
       "       ['Averting the climate crisis', 'Al Gore', 'February 2006',\n",
       "        3600000, 109000,\n",
       "        'https://ted.com/talks/al_gore_averting_the_climate_crisis']],\n",
       "      dtype=object)"
      ]
     },
     "execution_count": 7,
     "metadata": {},
     "output_type": "execute_result"
    }
   ],
   "source": [
    "#converting to 2d array (lists of list)\n",
    "data=df.values\n",
    "data"
   ]
  },
  {
   "cell_type": "code",
   "execution_count": 8,
   "id": "6f7abc5d",
   "metadata": {
    "execution": {
     "iopub.execute_input": "2022-05-06T15:30:02.072961Z",
     "iopub.status.busy": "2022-05-06T15:30:02.072407Z",
     "iopub.status.idle": "2022-05-06T15:30:02.075959Z",
     "shell.execute_reply": "2022-05-06T15:30:02.075073Z"
    },
    "papermill": {
     "duration": 0.049165,
     "end_time": "2022-05-06T15:30:02.078014",
     "exception": false,
     "start_time": "2022-05-06T15:30:02.028849",
     "status": "completed"
    },
    "tags": []
   },
   "outputs": [],
   "source": [
    "#df['author']"
   ]
  },
  {
   "cell_type": "code",
   "execution_count": 9,
   "id": "080f2b28",
   "metadata": {
    "execution": {
     "iopub.execute_input": "2022-05-06T15:30:02.162735Z",
     "iopub.status.busy": "2022-05-06T15:30:02.162273Z",
     "iopub.status.idle": "2022-05-06T15:30:02.167463Z",
     "shell.execute_reply": "2022-05-06T15:30:02.166630Z"
    },
    "papermill": {
     "duration": 0.05052,
     "end_time": "2022-05-06T15:30:02.170006",
     "exception": false,
     "start_time": "2022-05-06T15:30:02.119486",
     "status": "completed"
    },
    "tags": []
   },
   "outputs": [
    {
     "name": "stdout",
     "output_type": "stream",
     "text": [
      "Ozawa Bineshi Albert\n",
      "Sydney Iaukea\n",
      "Martin Reeves\n",
      "James K. Thornton\n",
      "Mahendra Singhi\n"
     ]
    }
   ],
   "source": [
    "#printing 5 authors using for loop\n",
    "\n",
    "for i in range(5):\n",
    "    print(data[i][1])"
   ]
  },
  {
   "cell_type": "markdown",
   "id": "d4c292ef",
   "metadata": {
    "papermill": {
     "duration": 0.041606,
     "end_time": "2022-05-06T15:30:02.255990",
     "exception": false,
     "start_time": "2022-05-06T15:30:02.214384",
     "status": "completed"
    },
    "tags": []
   },
   "source": []
  },
  {
   "cell_type": "markdown",
   "id": "194cb743",
   "metadata": {
    "papermill": {
     "duration": 0.041596,
     "end_time": "2022-05-06T15:30:02.342120",
     "exception": false,
     "start_time": "2022-05-06T15:30:02.300524",
     "status": "completed"
    },
    "tags": []
   },
   "source": [
    "# Total number of authors"
   ]
  },
  {
   "cell_type": "code",
   "execution_count": 10,
   "id": "5a0e20f3",
   "metadata": {
    "execution": {
     "iopub.execute_input": "2022-05-06T15:30:02.427877Z",
     "iopub.status.busy": "2022-05-06T15:30:02.427327Z",
     "iopub.status.idle": "2022-05-06T15:30:02.435837Z",
     "shell.execute_reply": "2022-05-06T15:30:02.435006Z"
    },
    "papermill": {
     "duration": 0.053626,
     "end_time": "2022-05-06T15:30:02.437754",
     "exception": false,
     "start_time": "2022-05-06T15:30:02.384128",
     "status": "completed"
    },
    "tags": []
   },
   "outputs": [
    {
     "name": "stdout",
     "output_type": "stream",
     "text": [
      "4443\n"
     ]
    }
   ],
   "source": [
    "li=[]\n",
    "for i in range(len(data)):\n",
    "    li.append(data[i][1])\n",
    "li=set(li)   \n",
    "print(len(li))"
   ]
  },
  {
   "cell_type": "markdown",
   "id": "aecbf6bb",
   "metadata": {
    "papermill": {
     "duration": 0.04154,
     "end_time": "2022-05-06T15:30:02.521526",
     "exception": false,
     "start_time": "2022-05-06T15:30:02.479986",
     "status": "completed"
    },
    "tags": []
   },
   "source": [
    "# Average number of views for Bill Gates"
   ]
  },
  {
   "cell_type": "code",
   "execution_count": 11,
   "id": "2602fdea",
   "metadata": {
    "execution": {
     "iopub.execute_input": "2022-05-06T15:30:02.607281Z",
     "iopub.status.busy": "2022-05-06T15:30:02.606501Z",
     "iopub.status.idle": "2022-05-06T15:30:02.615604Z",
     "shell.execute_reply": "2022-05-06T15:30:02.614581Z"
    },
    "papermill": {
     "duration": 0.054312,
     "end_time": "2022-05-06T15:30:02.617710",
     "exception": false,
     "start_time": "2022-05-06T15:30:02.563398",
     "status": "completed"
    },
    "tags": []
   },
   "outputs": [
    {
     "name": "stdout",
     "output_type": "stream",
     "text": [
      "9725000.0\n"
     ]
    }
   ],
   "source": [
    "views=[]\n",
    "count=0\n",
    "for i in range(len(data)):\n",
    "    if data[i][1]=='Bill Gates':\n",
    "        count+=1\n",
    "        views.append(data[i][3])\n",
    "print(sum(views)/count)        "
   ]
  },
  {
   "cell_type": "markdown",
   "id": "87f4cf08",
   "metadata": {
    "papermill": {
     "duration": 0.042097,
     "end_time": "2022-05-06T15:30:02.702154",
     "exception": false,
     "start_time": "2022-05-06T15:30:02.660057",
     "status": "completed"
    },
    "tags": []
   },
   "source": [
    "### using inbuilt function"
   ]
  },
  {
   "cell_type": "code",
   "execution_count": 12,
   "id": "38b21ba5",
   "metadata": {
    "execution": {
     "iopub.execute_input": "2022-05-06T15:30:02.788110Z",
     "iopub.status.busy": "2022-05-06T15:30:02.787845Z",
     "iopub.status.idle": "2022-05-06T15:30:02.799948Z",
     "shell.execute_reply": "2022-05-06T15:30:02.798930Z"
    },
    "papermill": {
     "duration": 0.057912,
     "end_time": "2022-05-06T15:30:02.802170",
     "exception": false,
     "start_time": "2022-05-06T15:30:02.744258",
     "status": "completed"
    },
    "tags": []
   },
   "outputs": [
    {
     "data": {
      "text/plain": [
       "9725000.0"
      ]
     },
     "execution_count": 12,
     "metadata": {},
     "output_type": "execute_result"
    }
   ],
   "source": [
    "df[df['author']=='Bill Gates']['views'].mean()"
   ]
  },
  {
   "cell_type": "code",
   "execution_count": 13,
   "id": "0102fd64",
   "metadata": {
    "execution": {
     "iopub.execute_input": "2022-05-06T15:30:02.891022Z",
     "iopub.status.busy": "2022-05-06T15:30:02.890295Z",
     "iopub.status.idle": "2022-05-06T15:30:02.896231Z",
     "shell.execute_reply": "2022-05-06T15:30:02.895489Z"
    },
    "papermill": {
     "duration": 0.053351,
     "end_time": "2022-05-06T15:30:02.899046",
     "exception": false,
     "start_time": "2022-05-06T15:30:02.845695",
     "status": "completed"
    },
    "tags": []
   },
   "outputs": [
    {
     "name": "stdout",
     "output_type": "stream",
     "text": [
      "number of talks given by Bill Gates: 8\n"
     ]
    }
   ],
   "source": [
    "#prints number of talks given by Bill Gates\n",
    "print(\"number of talks given by Bill Gates:\",count)"
   ]
  },
  {
   "cell_type": "code",
   "execution_count": 14,
   "id": "80d50923",
   "metadata": {
    "execution": {
     "iopub.execute_input": "2022-05-06T15:30:02.988006Z",
     "iopub.status.busy": "2022-05-06T15:30:02.987709Z",
     "iopub.status.idle": "2022-05-06T15:30:03.000036Z",
     "shell.execute_reply": "2022-05-06T15:30:02.999157Z"
    },
    "papermill": {
     "duration": 0.05977,
     "end_time": "2022-05-06T15:30:03.002257",
     "exception": false,
     "start_time": "2022-05-06T15:30:02.942487",
     "status": "completed"
    },
    "tags": []
   },
   "outputs": [
    {
     "data": {
      "text/html": [
       "<div>\n",
       "<style scoped>\n",
       "    .dataframe tbody tr th:only-of-type {\n",
       "        vertical-align: middle;\n",
       "    }\n",
       "\n",
       "    .dataframe tbody tr th {\n",
       "        vertical-align: top;\n",
       "    }\n",
       "\n",
       "    .dataframe thead th {\n",
       "        text-align: right;\n",
       "    }\n",
       "</style>\n",
       "<table border=\"1\" class=\"dataframe\">\n",
       "  <thead>\n",
       "    <tr style=\"text-align: right;\">\n",
       "      <th></th>\n",
       "      <th>title</th>\n",
       "      <th>author</th>\n",
       "      <th>date</th>\n",
       "      <th>views</th>\n",
       "      <th>likes</th>\n",
       "      <th>link</th>\n",
       "    </tr>\n",
       "  </thead>\n",
       "  <tbody>\n",
       "    <tr>\n",
       "      <th>0</th>\n",
       "      <td>Climate action needs new frontline leadership</td>\n",
       "      <td>Ozawa Bineshi Albert</td>\n",
       "      <td>December 2021</td>\n",
       "      <td>404000</td>\n",
       "      <td>12000</td>\n",
       "      <td>https://ted.com/talks/ozawa_bineshi_albert_cli...</td>\n",
       "    </tr>\n",
       "    <tr>\n",
       "      <th>1</th>\n",
       "      <td>The dark history of the overthrow of Hawaii</td>\n",
       "      <td>Sydney Iaukea</td>\n",
       "      <td>February 2022</td>\n",
       "      <td>214000</td>\n",
       "      <td>6400</td>\n",
       "      <td>https://ted.com/talks/sydney_iaukea_the_dark_h...</td>\n",
       "    </tr>\n",
       "    <tr>\n",
       "      <th>2</th>\n",
       "      <td>How play can spark new ideas for your business</td>\n",
       "      <td>Martin Reeves</td>\n",
       "      <td>September 2021</td>\n",
       "      <td>412000</td>\n",
       "      <td>12000</td>\n",
       "      <td>https://ted.com/talks/martin_reeves_how_play_c...</td>\n",
       "    </tr>\n",
       "    <tr>\n",
       "      <th>3</th>\n",
       "      <td>Why is China appointing judges to combat clima...</td>\n",
       "      <td>James K. Thornton</td>\n",
       "      <td>October 2021</td>\n",
       "      <td>427000</td>\n",
       "      <td>12000</td>\n",
       "      <td>https://ted.com/talks/james_k_thornton_why_is_...</td>\n",
       "    </tr>\n",
       "    <tr>\n",
       "      <th>4</th>\n",
       "      <td>Cement's carbon problem — and 2 ways to fix it</td>\n",
       "      <td>Mahendra Singhi</td>\n",
       "      <td>October 2021</td>\n",
       "      <td>2400</td>\n",
       "      <td>72</td>\n",
       "      <td>https://ted.com/talks/mahendra_singhi_cement_s...</td>\n",
       "    </tr>\n",
       "  </tbody>\n",
       "</table>\n",
       "</div>"
      ],
      "text/plain": [
       "                                               title                author  \\\n",
       "0      Climate action needs new frontline leadership  Ozawa Bineshi Albert   \n",
       "1        The dark history of the overthrow of Hawaii         Sydney Iaukea   \n",
       "2     How play can spark new ideas for your business         Martin Reeves   \n",
       "3  Why is China appointing judges to combat clima...     James K. Thornton   \n",
       "4     Cement's carbon problem — and 2 ways to fix it       Mahendra Singhi   \n",
       "\n",
       "             date   views  likes  \\\n",
       "0   December 2021  404000  12000   \n",
       "1   February 2022  214000   6400   \n",
       "2  September 2021  412000  12000   \n",
       "3    October 2021  427000  12000   \n",
       "4    October 2021    2400     72   \n",
       "\n",
       "                                                link  \n",
       "0  https://ted.com/talks/ozawa_bineshi_albert_cli...  \n",
       "1  https://ted.com/talks/sydney_iaukea_the_dark_h...  \n",
       "2  https://ted.com/talks/martin_reeves_how_play_c...  \n",
       "3  https://ted.com/talks/james_k_thornton_why_is_...  \n",
       "4  https://ted.com/talks/mahendra_singhi_cement_s...  "
      ]
     },
     "execution_count": 14,
     "metadata": {},
     "output_type": "execute_result"
    }
   ],
   "source": [
    "df.head()"
   ]
  },
  {
   "cell_type": "markdown",
   "id": "80b92f35",
   "metadata": {
    "papermill": {
     "duration": 0.044223,
     "end_time": "2022-05-06T15:30:03.091512",
     "exception": false,
     "start_time": "2022-05-06T15:30:03.047289",
     "status": "completed"
    },
    "tags": []
   },
   "source": [
    "# Adding new column *view to like ratio*"
   ]
  },
  {
   "cell_type": "code",
   "execution_count": 15,
   "id": "d3046c18",
   "metadata": {
    "execution": {
     "iopub.execute_input": "2022-05-06T15:30:03.182232Z",
     "iopub.status.busy": "2022-05-06T15:30:03.181679Z",
     "iopub.status.idle": "2022-05-06T15:30:03.199480Z",
     "shell.execute_reply": "2022-05-06T15:30:03.198618Z"
    },
    "papermill": {
     "duration": 0.066047,
     "end_time": "2022-05-06T15:30:03.202292",
     "exception": false,
     "start_time": "2022-05-06T15:30:03.136245",
     "status": "completed"
    },
    "tags": []
   },
   "outputs": [
    {
     "name": "stderr",
     "output_type": "stream",
     "text": [
      "/opt/conda/lib/python3.7/site-packages/ipykernel_launcher.py:5: SettingWithCopyWarning: \n",
      "A value is trying to be set on a copy of a slice from a DataFrame.\n",
      "Try using .loc[row_indexer,col_indexer] = value instead\n",
      "\n",
      "See the caveats in the documentation: https://pandas.pydata.org/pandas-docs/stable/user_guide/indexing.html#returning-a-view-versus-a-copy\n",
      "  \"\"\"\n"
     ]
    }
   ],
   "source": [
    "vlr=[]\n",
    "for i in range(len(data)):\n",
    "    vlr.append(round(data[i][3]/data[i][4],2))\n",
    "\n",
    "df['view_to_like_ratio'] =vlr;  \n",
    "    "
   ]
  },
  {
   "cell_type": "code",
   "execution_count": 16,
   "id": "be8af15d",
   "metadata": {
    "execution": {
     "iopub.execute_input": "2022-05-06T15:30:03.294178Z",
     "iopub.status.busy": "2022-05-06T15:30:03.293799Z",
     "iopub.status.idle": "2022-05-06T15:30:03.307502Z",
     "shell.execute_reply": "2022-05-06T15:30:03.306910Z"
    },
    "papermill": {
     "duration": 0.062136,
     "end_time": "2022-05-06T15:30:03.309917",
     "exception": false,
     "start_time": "2022-05-06T15:30:03.247781",
     "status": "completed"
    },
    "tags": []
   },
   "outputs": [
    {
     "data": {
      "text/html": [
       "<div>\n",
       "<style scoped>\n",
       "    .dataframe tbody tr th:only-of-type {\n",
       "        vertical-align: middle;\n",
       "    }\n",
       "\n",
       "    .dataframe tbody tr th {\n",
       "        vertical-align: top;\n",
       "    }\n",
       "\n",
       "    .dataframe thead th {\n",
       "        text-align: right;\n",
       "    }\n",
       "</style>\n",
       "<table border=\"1\" class=\"dataframe\">\n",
       "  <thead>\n",
       "    <tr style=\"text-align: right;\">\n",
       "      <th></th>\n",
       "      <th>title</th>\n",
       "      <th>author</th>\n",
       "      <th>date</th>\n",
       "      <th>views</th>\n",
       "      <th>likes</th>\n",
       "      <th>link</th>\n",
       "      <th>view_to_like_ratio</th>\n",
       "    </tr>\n",
       "  </thead>\n",
       "  <tbody>\n",
       "    <tr>\n",
       "      <th>0</th>\n",
       "      <td>Climate action needs new frontline leadership</td>\n",
       "      <td>Ozawa Bineshi Albert</td>\n",
       "      <td>December 2021</td>\n",
       "      <td>404000</td>\n",
       "      <td>12000</td>\n",
       "      <td>https://ted.com/talks/ozawa_bineshi_albert_cli...</td>\n",
       "      <td>33.67</td>\n",
       "    </tr>\n",
       "    <tr>\n",
       "      <th>1</th>\n",
       "      <td>The dark history of the overthrow of Hawaii</td>\n",
       "      <td>Sydney Iaukea</td>\n",
       "      <td>February 2022</td>\n",
       "      <td>214000</td>\n",
       "      <td>6400</td>\n",
       "      <td>https://ted.com/talks/sydney_iaukea_the_dark_h...</td>\n",
       "      <td>33.44</td>\n",
       "    </tr>\n",
       "    <tr>\n",
       "      <th>2</th>\n",
       "      <td>How play can spark new ideas for your business</td>\n",
       "      <td>Martin Reeves</td>\n",
       "      <td>September 2021</td>\n",
       "      <td>412000</td>\n",
       "      <td>12000</td>\n",
       "      <td>https://ted.com/talks/martin_reeves_how_play_c...</td>\n",
       "      <td>34.33</td>\n",
       "    </tr>\n",
       "    <tr>\n",
       "      <th>3</th>\n",
       "      <td>Why is China appointing judges to combat clima...</td>\n",
       "      <td>James K. Thornton</td>\n",
       "      <td>October 2021</td>\n",
       "      <td>427000</td>\n",
       "      <td>12000</td>\n",
       "      <td>https://ted.com/talks/james_k_thornton_why_is_...</td>\n",
       "      <td>35.58</td>\n",
       "    </tr>\n",
       "    <tr>\n",
       "      <th>4</th>\n",
       "      <td>Cement's carbon problem — and 2 ways to fix it</td>\n",
       "      <td>Mahendra Singhi</td>\n",
       "      <td>October 2021</td>\n",
       "      <td>2400</td>\n",
       "      <td>72</td>\n",
       "      <td>https://ted.com/talks/mahendra_singhi_cement_s...</td>\n",
       "      <td>33.33</td>\n",
       "    </tr>\n",
       "  </tbody>\n",
       "</table>\n",
       "</div>"
      ],
      "text/plain": [
       "                                               title                author  \\\n",
       "0      Climate action needs new frontline leadership  Ozawa Bineshi Albert   \n",
       "1        The dark history of the overthrow of Hawaii         Sydney Iaukea   \n",
       "2     How play can spark new ideas for your business         Martin Reeves   \n",
       "3  Why is China appointing judges to combat clima...     James K. Thornton   \n",
       "4     Cement's carbon problem — and 2 ways to fix it       Mahendra Singhi   \n",
       "\n",
       "             date   views  likes  \\\n",
       "0   December 2021  404000  12000   \n",
       "1   February 2022  214000   6400   \n",
       "2  September 2021  412000  12000   \n",
       "3    October 2021  427000  12000   \n",
       "4    October 2021    2400     72   \n",
       "\n",
       "                                                link  view_to_like_ratio  \n",
       "0  https://ted.com/talks/ozawa_bineshi_albert_cli...               33.67  \n",
       "1  https://ted.com/talks/sydney_iaukea_the_dark_h...               33.44  \n",
       "2  https://ted.com/talks/martin_reeves_how_play_c...               34.33  \n",
       "3  https://ted.com/talks/james_k_thornton_why_is_...               35.58  \n",
       "4  https://ted.com/talks/mahendra_singhi_cement_s...               33.33  "
      ]
     },
     "execution_count": 16,
     "metadata": {},
     "output_type": "execute_result"
    }
   ],
   "source": [
    "df.head()"
   ]
  },
  {
   "cell_type": "code",
   "execution_count": 17,
   "id": "d05b6914",
   "metadata": {
    "execution": {
     "iopub.execute_input": "2022-05-06T15:30:03.400526Z",
     "iopub.status.busy": "2022-05-06T15:30:03.400229Z",
     "iopub.status.idle": "2022-05-06T15:30:03.405433Z",
     "shell.execute_reply": "2022-05-06T15:30:03.404591Z"
    },
    "papermill": {
     "duration": 0.053256,
     "end_time": "2022-05-06T15:30:03.407689",
     "exception": false,
     "start_time": "2022-05-06T15:30:03.354433",
     "status": "completed"
    },
    "tags": []
   },
   "outputs": [
    {
     "name": "stdout",
     "output_type": "stream",
     "text": [
      "36.4\n",
      "30.4\n"
     ]
    }
   ],
   "source": [
    "print(max(vlr))\n",
    "print(min(vlr))"
   ]
  },
  {
   "cell_type": "markdown",
   "id": "a2d199d7",
   "metadata": {
    "papermill": {
     "duration": 0.04448,
     "end_time": "2022-05-06T15:30:03.497872",
     "exception": false,
     "start_time": "2022-05-06T15:30:03.453392",
     "status": "completed"
    },
    "tags": []
   },
   "source": [
    "# ted talks given by bill gates"
   ]
  },
  {
   "cell_type": "code",
   "execution_count": 18,
   "id": "7ce430f3",
   "metadata": {
    "execution": {
     "iopub.execute_input": "2022-05-06T15:30:03.589288Z",
     "iopub.status.busy": "2022-05-06T15:30:03.588704Z",
     "iopub.status.idle": "2022-05-06T15:30:03.598862Z",
     "shell.execute_reply": "2022-05-06T15:30:03.598277Z"
    },
    "papermill": {
     "duration": 0.058194,
     "end_time": "2022-05-06T15:30:03.600666",
     "exception": false,
     "start_time": "2022-05-06T15:30:03.542472",
     "status": "completed"
    },
    "tags": []
   },
   "outputs": [
    {
     "data": {
      "text/plain": [
       "403     The innovations we need to avoid a climate dis...\n",
       "789           How the pandemic will shape the near future\n",
       "952       How we must respond to the coronavirus pandemic\n",
       "3251                   The next outbreak? We're not ready\n",
       "3878                          Teachers need real feedback\n",
       "4560            How state budgets are breaking US schools\n",
       "4824                                  Innovating to zero!\n",
       "5062                     Mosquitos, malaria and education\n",
       "Name: title, dtype: object"
      ]
     },
     "execution_count": 18,
     "metadata": {},
     "output_type": "execute_result"
    }
   ],
   "source": [
    "df[df['author']=='Bill Gates']['title']"
   ]
  },
  {
   "cell_type": "markdown",
   "id": "8ee4273f",
   "metadata": {
    "papermill": {
     "duration": 0.045289,
     "end_time": "2022-05-06T15:30:03.691291",
     "exception": false,
     "start_time": "2022-05-06T15:30:03.646002",
     "status": "completed"
    },
    "tags": []
   },
   "source": [
    "# Author given most number of ted talks\n",
    "### 2 approaches:-"
   ]
  },
  {
   "cell_type": "code",
   "execution_count": 19,
   "id": "0c94db27",
   "metadata": {
    "execution": {
     "iopub.execute_input": "2022-05-06T15:30:03.783986Z",
     "iopub.status.busy": "2022-05-06T15:30:03.783274Z",
     "iopub.status.idle": "2022-05-06T15:30:03.797298Z",
     "shell.execute_reply": "2022-05-06T15:30:03.796706Z"
    },
    "papermill": {
     "duration": 0.062694,
     "end_time": "2022-05-06T15:30:03.799192",
     "exception": false,
     "start_time": "2022-05-06T15:30:03.736498",
     "status": "completed"
    },
    "tags": []
   },
   "outputs": [
    {
     "data": {
      "text/plain": [
       "count             5439\n",
       "unique            4443\n",
       "top       Alex Gendler\n",
       "freq                45\n",
       "Name: author, dtype: object"
      ]
     },
     "execution_count": 19,
     "metadata": {},
     "output_type": "execute_result"
    }
   ],
   "source": [
    "df['author'].describe()\n",
    "# this reveals that Alex Gendler has given most number of ted talks(45 talks)"
   ]
  },
  {
   "cell_type": "markdown",
   "id": "208c5279",
   "metadata": {
    "papermill": {
     "duration": 0.0453,
     "end_time": "2022-05-06T15:30:03.890183",
     "exception": false,
     "start_time": "2022-05-06T15:30:03.844883",
     "status": "completed"
    },
    "tags": []
   },
   "source": [
    "# Search ted talks for a specific subject"
   ]
  },
  {
   "cell_type": "code",
   "execution_count": 20,
   "id": "9d3b08b6",
   "metadata": {
    "execution": {
     "iopub.execute_input": "2022-05-06T15:30:03.985854Z",
     "iopub.status.busy": "2022-05-06T15:30:03.985290Z",
     "iopub.status.idle": "2022-05-06T15:30:04.062032Z",
     "shell.execute_reply": "2022-05-06T15:30:04.060600Z"
    },
    "papermill": {
     "duration": 0.128053,
     "end_time": "2022-05-06T15:30:04.063909",
     "exception": true,
     "start_time": "2022-05-06T15:30:03.935856",
     "status": "failed"
    },
    "tags": []
   },
   "outputs": [
    {
     "ename": "StdinNotImplementedError",
     "evalue": "raw_input was called, but this frontend does not support input requests.",
     "output_type": "error",
     "traceback": [
      "\u001b[0;31m---------------------------------------------------------------------------\u001b[0m",
      "\u001b[0;31mStdinNotImplementedError\u001b[0m                  Traceback (most recent call last)",
      "\u001b[0;32m/tmp/ipykernel_19/1579789101.py\u001b[0m in \u001b[0;36m<module>\u001b[0;34m\u001b[0m\n\u001b[0;32m----> 1\u001b[0;31m \u001b[0mtopic\u001b[0m\u001b[0;34m=\u001b[0m\u001b[0minput\u001b[0m\u001b[0;34m(\u001b[0m\u001b[0;34m\"Enter the topic to be queried:\"\u001b[0m\u001b[0;34m)\u001b[0m\u001b[0;34m\u001b[0m\u001b[0;34m\u001b[0m\u001b[0m\n\u001b[0m\u001b[1;32m      2\u001b[0m \u001b[0;34m\u001b[0m\u001b[0m\n\u001b[1;32m      3\u001b[0m \u001b[0;32mfor\u001b[0m \u001b[0mi\u001b[0m \u001b[0;32min\u001b[0m \u001b[0mrange\u001b[0m\u001b[0;34m(\u001b[0m\u001b[0mlen\u001b[0m\u001b[0;34m(\u001b[0m\u001b[0mdata\u001b[0m\u001b[0;34m)\u001b[0m\u001b[0;34m)\u001b[0m\u001b[0;34m:\u001b[0m\u001b[0;34m\u001b[0m\u001b[0;34m\u001b[0m\u001b[0m\n\u001b[1;32m      4\u001b[0m     \u001b[0;32mif\u001b[0m \u001b[0mtopic\u001b[0m\u001b[0;34m.\u001b[0m\u001b[0mlower\u001b[0m\u001b[0;34m(\u001b[0m\u001b[0;34m)\u001b[0m \u001b[0;32min\u001b[0m \u001b[0mdata\u001b[0m\u001b[0;34m[\u001b[0m\u001b[0mi\u001b[0m\u001b[0;34m]\u001b[0m\u001b[0;34m[\u001b[0m\u001b[0;36m0\u001b[0m\u001b[0;34m]\u001b[0m\u001b[0;34m.\u001b[0m\u001b[0mlower\u001b[0m\u001b[0;34m(\u001b[0m\u001b[0;34m)\u001b[0m\u001b[0;34m:\u001b[0m\u001b[0;34m\u001b[0m\u001b[0;34m\u001b[0m\u001b[0m\n\u001b[1;32m      5\u001b[0m         \u001b[0mprint\u001b[0m\u001b[0;34m(\u001b[0m\u001b[0mdata\u001b[0m\u001b[0;34m[\u001b[0m\u001b[0mi\u001b[0m\u001b[0;34m]\u001b[0m\u001b[0;34m[\u001b[0m\u001b[0;36m0\u001b[0m\u001b[0;34m]\u001b[0m\u001b[0;34m)\u001b[0m\u001b[0;34m\u001b[0m\u001b[0;34m\u001b[0m\u001b[0m\n",
      "\u001b[0;32m/opt/conda/lib/python3.7/site-packages/ipykernel/kernelbase.py\u001b[0m in \u001b[0;36mraw_input\u001b[0;34m(self, prompt)\u001b[0m\n\u001b[1;32m   1072\u001b[0m         \u001b[0;32mif\u001b[0m \u001b[0;32mnot\u001b[0m \u001b[0mself\u001b[0m\u001b[0;34m.\u001b[0m\u001b[0m_allow_stdin\u001b[0m\u001b[0;34m:\u001b[0m\u001b[0;34m\u001b[0m\u001b[0;34m\u001b[0m\u001b[0m\n\u001b[1;32m   1073\u001b[0m             raise StdinNotImplementedError(\n\u001b[0;32m-> 1074\u001b[0;31m                 \u001b[0;34m\"raw_input was called, but this frontend does not support input requests.\"\u001b[0m\u001b[0;34m\u001b[0m\u001b[0;34m\u001b[0m\u001b[0m\n\u001b[0m\u001b[1;32m   1075\u001b[0m             )\n\u001b[1;32m   1076\u001b[0m         return self._input_request(\n",
      "\u001b[0;31mStdinNotImplementedError\u001b[0m: raw_input was called, but this frontend does not support input requests."
     ]
    }
   ],
   "source": [
    "topic=input(\"Enter the topic to be queried:\")\n",
    "\n",
    "for i in range(len(data)):\n",
    "    if topic.lower() in data[i][0].lower():\n",
    "        print(data[i][0])"
   ]
  },
  {
   "cell_type": "markdown",
   "id": "08939b13",
   "metadata": {
    "papermill": {
     "duration": null,
     "end_time": null,
     "exception": null,
     "start_time": null,
     "status": "pending"
    },
    "tags": []
   },
   "source": [
    "# Top 5 ted talks based on likes\n",
    "## sort_values()"
   ]
  },
  {
   "cell_type": "code",
   "execution_count": null,
   "id": "f388263c",
   "metadata": {
    "execution": {
     "iopub.execute_input": "2022-05-06T15:10:13.290591Z",
     "iopub.status.busy": "2022-05-06T15:10:13.290233Z",
     "iopub.status.idle": "2022-05-06T15:10:13.306463Z",
     "shell.execute_reply": "2022-05-06T15:10:13.305601Z",
     "shell.execute_reply.started": "2022-05-06T15:10:13.290543Z"
    },
    "papermill": {
     "duration": null,
     "end_time": null,
     "exception": null,
     "start_time": null,
     "status": "pending"
    },
    "tags": []
   },
   "outputs": [],
   "source": [
    "df.sort_values(by='likes',ascending=False).head()"
   ]
  },
  {
   "cell_type": "markdown",
   "id": "1d7cb865",
   "metadata": {
    "papermill": {
     "duration": null,
     "end_time": null,
     "exception": null,
     "start_time": null,
     "status": "pending"
    },
    "tags": []
   },
   "source": [
    "# Top 10 authors given most number of ted talks\n",
    "## groupby()"
   ]
  },
  {
   "cell_type": "code",
   "execution_count": null,
   "id": "ea6267dd",
   "metadata": {
    "execution": {
     "iopub.execute_input": "2022-05-06T15:10:13.309364Z",
     "iopub.status.busy": "2022-05-06T15:10:13.308858Z",
     "iopub.status.idle": "2022-05-06T15:10:13.323481Z",
     "shell.execute_reply": "2022-05-06T15:10:13.322491Z",
     "shell.execute_reply.started": "2022-05-06T15:10:13.309318Z"
    },
    "papermill": {
     "duration": null,
     "end_time": null,
     "exception": null,
     "start_time": null,
     "status": "pending"
    },
    "tags": []
   },
   "outputs": [],
   "source": [
    "df.groupby('author').size().sort_values(ascending=False).head(10)"
   ]
  },
  {
   "cell_type": "markdown",
   "id": "413f66a7",
   "metadata": {
    "papermill": {
     "duration": null,
     "end_time": null,
     "exception": null,
     "start_time": null,
     "status": "pending"
    },
    "tags": []
   },
   "source": [
    "# no of ted talks happened in a particular year"
   ]
  },
  {
   "cell_type": "markdown",
   "id": "ceb32f55",
   "metadata": {
    "papermill": {
     "duration": null,
     "end_time": null,
     "exception": null,
     "start_time": null,
     "status": "pending"
    },
    "tags": []
   },
   "source": [
    "### here, the date is given. so, we need to split it into year and month"
   ]
  },
  {
   "cell_type": "code",
   "execution_count": null,
   "id": "3f729b27",
   "metadata": {
    "execution": {
     "iopub.execute_input": "2022-05-06T15:10:13.326404Z",
     "iopub.status.busy": "2022-05-06T15:10:13.325901Z",
     "iopub.status.idle": "2022-05-06T15:10:13.339792Z",
     "shell.execute_reply": "2022-05-06T15:10:13.339101Z",
     "shell.execute_reply.started": "2022-05-06T15:10:13.326359Z"
    },
    "papermill": {
     "duration": null,
     "end_time": null,
     "exception": null,
     "start_time": null,
     "status": "pending"
    },
    "tags": []
   },
   "outputs": [],
   "source": [
    "df.head()"
   ]
  },
  {
   "cell_type": "code",
   "execution_count": null,
   "id": "a6751e27",
   "metadata": {
    "execution": {
     "iopub.execute_input": "2022-05-06T15:12:19.838748Z",
     "iopub.status.busy": "2022-05-06T15:12:19.838439Z",
     "iopub.status.idle": "2022-05-06T15:12:19.856139Z",
     "shell.execute_reply": "2022-05-06T15:12:19.854799Z",
     "shell.execute_reply.started": "2022-05-06T15:12:19.838711Z"
    },
    "papermill": {
     "duration": null,
     "end_time": null,
     "exception": null,
     "start_time": null,
     "status": "pending"
    },
    "tags": []
   },
   "outputs": [],
   "source": [
    "month=[]\n",
    "year=[]\n",
    "for i in range(len(data)):\n",
    "    month.append(data[i][2].split(' ')[0])\n",
    "    year.append(data[i][2].split(' ')[1])\n",
    "df['month']=month\n",
    "df['year']=year"
   ]
  },
  {
   "cell_type": "code",
   "execution_count": null,
   "id": "ef40c0be",
   "metadata": {
    "execution": {
     "iopub.execute_input": "2022-05-06T15:12:30.836218Z",
     "iopub.status.busy": "2022-05-06T15:12:30.835611Z",
     "iopub.status.idle": "2022-05-06T15:12:30.849620Z",
     "shell.execute_reply": "2022-05-06T15:12:30.849038Z",
     "shell.execute_reply.started": "2022-05-06T15:12:30.836174Z"
    },
    "papermill": {
     "duration": null,
     "end_time": null,
     "exception": null,
     "start_time": null,
     "status": "pending"
    },
    "tags": []
   },
   "outputs": [],
   "source": [
    "df.head()"
   ]
  },
  {
   "cell_type": "code",
   "execution_count": null,
   "id": "3c28a5f1",
   "metadata": {
    "execution": {
     "iopub.execute_input": "2022-05-06T15:17:52.675183Z",
     "iopub.status.busy": "2022-05-06T15:17:52.674904Z",
     "iopub.status.idle": "2022-05-06T15:17:52.681607Z",
     "shell.execute_reply": "2022-05-06T15:17:52.680988Z",
     "shell.execute_reply.started": "2022-05-06T15:17:52.675154Z"
    },
    "papermill": {
     "duration": null,
     "end_time": null,
     "exception": null,
     "start_time": null,
     "status": "pending"
    },
    "tags": []
   },
   "outputs": [],
   "source": [
    "len(df[df['year']=='2020'])\n",
    "#it is  clear that 501 ted talks given in 2020"
   ]
  },
  {
   "cell_type": "markdown",
   "id": "a0f91590",
   "metadata": {
    "papermill": {
     "duration": null,
     "end_time": null,
     "exception": null,
     "start_time": null,
     "status": "pending"
    },
    "tags": []
   },
   "source": [
    "# ted talk frequency of each year"
   ]
  },
  {
   "cell_type": "code",
   "execution_count": null,
   "id": "eb3145b1",
   "metadata": {
    "execution": {
     "iopub.execute_input": "2022-05-06T15:23:48.683880Z",
     "iopub.status.busy": "2022-05-06T15:23:48.683577Z",
     "iopub.status.idle": "2022-05-06T15:23:49.175593Z",
     "shell.execute_reply": "2022-05-06T15:23:49.174766Z",
     "shell.execute_reply.started": "2022-05-06T15:23:48.683845Z"
    },
    "papermill": {
     "duration": null,
     "end_time": null,
     "exception": null,
     "start_time": null,
     "status": "pending"
    },
    "tags": []
   },
   "outputs": [],
   "source": [
    "df.groupby('year').size().sort_values(ascending=False).plot(kind='bar')"
   ]
  },
  {
   "cell_type": "code",
   "execution_count": null,
   "id": "26ea8f1a",
   "metadata": {
    "execution": {
     "iopub.execute_input": "2022-05-06T15:24:12.719283Z",
     "iopub.status.busy": "2022-05-06T15:24:12.718622Z",
     "iopub.status.idle": "2022-05-06T15:24:12.957655Z",
     "shell.execute_reply": "2022-05-06T15:24:12.956718Z",
     "shell.execute_reply.started": "2022-05-06T15:24:12.719239Z"
    },
    "papermill": {
     "duration": null,
     "end_time": null,
     "exception": null,
     "start_time": null,
     "status": "pending"
    },
    "tags": []
   },
   "outputs": [],
   "source": [
    "df.groupby('month').size().sort_values(ascending=False).plot(kind='bar')"
   ]
  },
  {
   "cell_type": "markdown",
   "id": "11289734",
   "metadata": {
    "papermill": {
     "duration": null,
     "end_time": null,
     "exception": null,
     "start_time": null,
     "status": "pending"
    },
    "tags": []
   },
   "source": [
    "# month wise analysis of 2018"
   ]
  },
  {
   "cell_type": "code",
   "execution_count": null,
   "id": "d853c785",
   "metadata": {
    "execution": {
     "iopub.execute_input": "2022-05-06T15:26:35.938896Z",
     "iopub.status.busy": "2022-05-06T15:26:35.938550Z",
     "iopub.status.idle": "2022-05-06T15:26:35.959258Z",
     "shell.execute_reply": "2022-05-06T15:26:35.958438Z",
     "shell.execute_reply.started": "2022-05-06T15:26:35.938861Z"
    },
    "papermill": {
     "duration": null,
     "end_time": null,
     "exception": null,
     "start_time": null,
     "status": "pending"
    },
    "tags": []
   },
   "outputs": [],
   "source": [
    "df_new=df[df['year']=='2018']\n",
    "df_new.head()"
   ]
  },
  {
   "cell_type": "code",
   "execution_count": null,
   "id": "d5ee5594",
   "metadata": {
    "execution": {
     "iopub.execute_input": "2022-05-06T15:27:26.207086Z",
     "iopub.status.busy": "2022-05-06T15:27:26.206797Z",
     "iopub.status.idle": "2022-05-06T15:27:26.453787Z",
     "shell.execute_reply": "2022-05-06T15:27:26.452734Z",
     "shell.execute_reply.started": "2022-05-06T15:27:26.207054Z"
    },
    "papermill": {
     "duration": null,
     "end_time": null,
     "exception": null,
     "start_time": null,
     "status": "pending"
    },
    "tags": []
   },
   "outputs": [],
   "source": [
    "df_new.groupby('month').size().sort_values(ascending=False).plot(kind='bar')"
   ]
  }
 ],
 "metadata": {
  "kernelspec": {
   "display_name": "Python 3",
   "language": "python",
   "name": "python3"
  },
  "language_info": {
   "codemirror_mode": {
    "name": "ipython",
    "version": 3
   },
   "file_extension": ".py",
   "mimetype": "text/x-python",
   "name": "python",
   "nbconvert_exporter": "python",
   "pygments_lexer": "ipython3",
   "version": "3.7.12"
  },
  "papermill": {
   "default_parameters": {},
   "duration": 17.316477,
   "end_time": "2022-05-06T15:30:07.440247",
   "environment_variables": {},
   "exception": true,
   "input_path": "__notebook__.ipynb",
   "output_path": "__notebook__.ipynb",
   "parameters": {},
   "start_time": "2022-05-06T15:29:50.123770",
   "version": "2.3.4"
  }
 },
 "nbformat": 4,
 "nbformat_minor": 5
}
