{
 "cells": [
  {
   "cell_type": "code",
   "execution_count": 1,
   "id": "be0d4382",
   "metadata": {
    "_cell_guid": "b1076dfc-b9ad-4769-8c92-a6c4dae69d19",
    "_uuid": "8f2839f25d086af736a60e9eeb907d3b93b6e0e5",
    "execution": {
     "iopub.execute_input": "2022-05-06T16:25:53.361522Z",
     "iopub.status.busy": "2022-05-06T16:25:53.361197Z",
     "iopub.status.idle": "2022-05-06T16:25:53.380744Z",
     "shell.execute_reply": "2022-05-06T16:25:53.380103Z"
    },
    "papermill": {
     "duration": 0.063702,
     "end_time": "2022-05-06T16:25:53.383155",
     "exception": false,
     "start_time": "2022-05-06T16:25:53.319453",
     "status": "completed"
    },
    "tags": []
   },
   "outputs": [
    {
     "name": "stdout",
     "output_type": "stream",
     "text": [
      "/kaggle/input/ted-talks/data.csv\n"
     ]
    }
   ],
   "source": [
    "# This Python 3 environment comes with many helpful analytics libraries installed\n",
    "# It is defined by the kaggle/python Docker image: https://github.com/kaggle/docker-python\n",
    "# For example, here's several helpful packages to load\n",
    "\n",
    "import numpy as np # linear algebra\n",
    "import pandas as pd # data processing, CSV file I/O (e.g. pd.read_csv)\n",
    "\n",
    "# Input data files are available in the read-only \"../input/\" directory\n",
    "# For example, running this (by clicking run or pressing Shift+Enter) will list all files under the input directory\n",
    "\n",
    "import os\n",
    "for dirname, _, filenames in os.walk('/kaggle/input'):\n",
    "    for filename in filenames:\n",
    "        print(os.path.join(dirname, filename))\n",
    "\n",
    "# You can write up to 20GB to the current directory (/kaggle/working/) that gets preserved as output when you create a version using \"Save & Run All\" \n",
    "# You can also write temporary files to /kaggle/temp/, but they won't be saved outside of the current session"
   ]
  },
  {
   "cell_type": "code",
   "execution_count": 2,
   "id": "1f4b5002",
   "metadata": {
    "execution": {
     "iopub.execute_input": "2022-05-06T16:25:53.461991Z",
     "iopub.status.busy": "2022-05-06T16:25:53.461712Z",
     "iopub.status.idle": "2022-05-06T16:25:53.512440Z",
     "shell.execute_reply": "2022-05-06T16:25:53.511680Z"
    },
    "papermill": {
     "duration": 0.092022,
     "end_time": "2022-05-06T16:25:53.514621",
     "exception": false,
     "start_time": "2022-05-06T16:25:53.422599",
     "status": "completed"
    },
    "tags": []
   },
   "outputs": [],
   "source": [
    "df=pd.read_csv('/kaggle/input/ted-talks/data.csv')"
   ]
  },
  {
   "cell_type": "code",
   "execution_count": 3,
   "id": "e15a0cb4",
   "metadata": {
    "execution": {
     "iopub.execute_input": "2022-05-06T16:25:53.594175Z",
     "iopub.status.busy": "2022-05-06T16:25:53.593892Z",
     "iopub.status.idle": "2022-05-06T16:25:53.620328Z",
     "shell.execute_reply": "2022-05-06T16:25:53.619485Z"
    },
    "papermill": {
     "duration": 0.069501,
     "end_time": "2022-05-06T16:25:53.622505",
     "exception": false,
     "start_time": "2022-05-06T16:25:53.553004",
     "status": "completed"
    },
    "tags": []
   },
   "outputs": [
    {
     "data": {
      "text/html": [
       "<div>\n",
       "<style scoped>\n",
       "    .dataframe tbody tr th:only-of-type {\n",
       "        vertical-align: middle;\n",
       "    }\n",
       "\n",
       "    .dataframe tbody tr th {\n",
       "        vertical-align: top;\n",
       "    }\n",
       "\n",
       "    .dataframe thead th {\n",
       "        text-align: right;\n",
       "    }\n",
       "</style>\n",
       "<table border=\"1\" class=\"dataframe\">\n",
       "  <thead>\n",
       "    <tr style=\"text-align: right;\">\n",
       "      <th></th>\n",
       "      <th>title</th>\n",
       "      <th>author</th>\n",
       "      <th>date</th>\n",
       "      <th>views</th>\n",
       "      <th>likes</th>\n",
       "      <th>link</th>\n",
       "    </tr>\n",
       "  </thead>\n",
       "  <tbody>\n",
       "    <tr>\n",
       "      <th>0</th>\n",
       "      <td>Climate action needs new frontline leadership</td>\n",
       "      <td>Ozawa Bineshi Albert</td>\n",
       "      <td>December 2021</td>\n",
       "      <td>404000</td>\n",
       "      <td>12000</td>\n",
       "      <td>https://ted.com/talks/ozawa_bineshi_albert_cli...</td>\n",
       "    </tr>\n",
       "    <tr>\n",
       "      <th>1</th>\n",
       "      <td>The dark history of the overthrow of Hawaii</td>\n",
       "      <td>Sydney Iaukea</td>\n",
       "      <td>February 2022</td>\n",
       "      <td>214000</td>\n",
       "      <td>6400</td>\n",
       "      <td>https://ted.com/talks/sydney_iaukea_the_dark_h...</td>\n",
       "    </tr>\n",
       "    <tr>\n",
       "      <th>2</th>\n",
       "      <td>How play can spark new ideas for your business</td>\n",
       "      <td>Martin Reeves</td>\n",
       "      <td>September 2021</td>\n",
       "      <td>412000</td>\n",
       "      <td>12000</td>\n",
       "      <td>https://ted.com/talks/martin_reeves_how_play_c...</td>\n",
       "    </tr>\n",
       "    <tr>\n",
       "      <th>3</th>\n",
       "      <td>Why is China appointing judges to combat clima...</td>\n",
       "      <td>James K. Thornton</td>\n",
       "      <td>October 2021</td>\n",
       "      <td>427000</td>\n",
       "      <td>12000</td>\n",
       "      <td>https://ted.com/talks/james_k_thornton_why_is_...</td>\n",
       "    </tr>\n",
       "    <tr>\n",
       "      <th>4</th>\n",
       "      <td>Cement's carbon problem — and 2 ways to fix it</td>\n",
       "      <td>Mahendra Singhi</td>\n",
       "      <td>October 2021</td>\n",
       "      <td>2400</td>\n",
       "      <td>72</td>\n",
       "      <td>https://ted.com/talks/mahendra_singhi_cement_s...</td>\n",
       "    </tr>\n",
       "    <tr>\n",
       "      <th>...</th>\n",
       "      <td>...</td>\n",
       "      <td>...</td>\n",
       "      <td>...</td>\n",
       "      <td>...</td>\n",
       "      <td>...</td>\n",
       "      <td>...</td>\n",
       "    </tr>\n",
       "    <tr>\n",
       "      <th>5435</th>\n",
       "      <td>The best stats you've ever seen</td>\n",
       "      <td>Hans Rosling</td>\n",
       "      <td>February 2006</td>\n",
       "      <td>15000000</td>\n",
       "      <td>458000</td>\n",
       "      <td>https://ted.com/talks/hans_rosling_the_best_st...</td>\n",
       "    </tr>\n",
       "    <tr>\n",
       "      <th>5436</th>\n",
       "      <td>Do schools kill creativity?</td>\n",
       "      <td>Sir Ken Robinson</td>\n",
       "      <td>February 2006</td>\n",
       "      <td>72000000</td>\n",
       "      <td>2100000</td>\n",
       "      <td>https://ted.com/talks/sir_ken_robinson_do_scho...</td>\n",
       "    </tr>\n",
       "    <tr>\n",
       "      <th>5437</th>\n",
       "      <td>Greening the ghetto</td>\n",
       "      <td>Majora Carter</td>\n",
       "      <td>February 2006</td>\n",
       "      <td>2900000</td>\n",
       "      <td>88000</td>\n",
       "      <td>https://ted.com/talks/majora_carter_greening_t...</td>\n",
       "    </tr>\n",
       "    <tr>\n",
       "      <th>5438</th>\n",
       "      <td>Simplicity sells</td>\n",
       "      <td>David Pogue</td>\n",
       "      <td>February 2006</td>\n",
       "      <td>2000000</td>\n",
       "      <td>60000</td>\n",
       "      <td>https://ted.com/talks/david_pogue_simplicity_s...</td>\n",
       "    </tr>\n",
       "    <tr>\n",
       "      <th>5439</th>\n",
       "      <td>Averting the climate crisis</td>\n",
       "      <td>Al Gore</td>\n",
       "      <td>February 2006</td>\n",
       "      <td>3600000</td>\n",
       "      <td>109000</td>\n",
       "      <td>https://ted.com/talks/al_gore_averting_the_cli...</td>\n",
       "    </tr>\n",
       "  </tbody>\n",
       "</table>\n",
       "<p>5440 rows × 6 columns</p>\n",
       "</div>"
      ],
      "text/plain": [
       "                                                  title                author  \\\n",
       "0         Climate action needs new frontline leadership  Ozawa Bineshi Albert   \n",
       "1           The dark history of the overthrow of Hawaii         Sydney Iaukea   \n",
       "2        How play can spark new ideas for your business         Martin Reeves   \n",
       "3     Why is China appointing judges to combat clima...     James K. Thornton   \n",
       "4        Cement's carbon problem — and 2 ways to fix it       Mahendra Singhi   \n",
       "...                                                 ...                   ...   \n",
       "5435                    The best stats you've ever seen          Hans Rosling   \n",
       "5436                        Do schools kill creativity?      Sir Ken Robinson   \n",
       "5437                                Greening the ghetto         Majora Carter   \n",
       "5438                                   Simplicity sells           David Pogue   \n",
       "5439                        Averting the climate crisis               Al Gore   \n",
       "\n",
       "                date     views    likes  \\\n",
       "0      December 2021    404000    12000   \n",
       "1      February 2022    214000     6400   \n",
       "2     September 2021    412000    12000   \n",
       "3       October 2021    427000    12000   \n",
       "4       October 2021      2400       72   \n",
       "...              ...       ...      ...   \n",
       "5435   February 2006  15000000   458000   \n",
       "5436   February 2006  72000000  2100000   \n",
       "5437   February 2006   2900000    88000   \n",
       "5438   February 2006   2000000    60000   \n",
       "5439   February 2006   3600000   109000   \n",
       "\n",
       "                                                   link  \n",
       "0     https://ted.com/talks/ozawa_bineshi_albert_cli...  \n",
       "1     https://ted.com/talks/sydney_iaukea_the_dark_h...  \n",
       "2     https://ted.com/talks/martin_reeves_how_play_c...  \n",
       "3     https://ted.com/talks/james_k_thornton_why_is_...  \n",
       "4     https://ted.com/talks/mahendra_singhi_cement_s...  \n",
       "...                                                 ...  \n",
       "5435  https://ted.com/talks/hans_rosling_the_best_st...  \n",
       "5436  https://ted.com/talks/sir_ken_robinson_do_scho...  \n",
       "5437  https://ted.com/talks/majora_carter_greening_t...  \n",
       "5438  https://ted.com/talks/david_pogue_simplicity_s...  \n",
       "5439  https://ted.com/talks/al_gore_averting_the_cli...  \n",
       "\n",
       "[5440 rows x 6 columns]"
      ]
     },
     "execution_count": 3,
     "metadata": {},
     "output_type": "execute_result"
    }
   ],
   "source": [
    "df"
   ]
  },
  {
   "cell_type": "code",
   "execution_count": 4,
   "id": "2240bab0",
   "metadata": {
    "execution": {
     "iopub.execute_input": "2022-05-06T16:25:53.704110Z",
     "iopub.status.busy": "2022-05-06T16:25:53.703623Z",
     "iopub.status.idle": "2022-05-06T16:25:53.712977Z",
     "shell.execute_reply": "2022-05-06T16:25:53.712424Z"
    },
    "papermill": {
     "duration": 0.051189,
     "end_time": "2022-05-06T16:25:53.714814",
     "exception": false,
     "start_time": "2022-05-06T16:25:53.663625",
     "status": "completed"
    },
    "tags": []
   },
   "outputs": [
    {
     "data": {
      "text/plain": [
       "title     0\n",
       "author    1\n",
       "date      0\n",
       "views     0\n",
       "likes     0\n",
       "link      0\n",
       "dtype: int64"
      ]
     },
     "execution_count": 4,
     "metadata": {},
     "output_type": "execute_result"
    }
   ],
   "source": [
    "#checking for null values\n",
    "df.isnull().sum()"
   ]
  },
  {
   "cell_type": "code",
   "execution_count": 5,
   "id": "10fe2b28",
   "metadata": {
    "execution": {
     "iopub.execute_input": "2022-05-06T16:25:53.795885Z",
     "iopub.status.busy": "2022-05-06T16:25:53.795361Z",
     "iopub.status.idle": "2022-05-06T16:25:53.805714Z",
     "shell.execute_reply": "2022-05-06T16:25:53.805112Z"
    },
    "papermill": {
     "duration": 0.053021,
     "end_time": "2022-05-06T16:25:53.807920",
     "exception": false,
     "start_time": "2022-05-06T16:25:53.754899",
     "status": "completed"
    },
    "tags": []
   },
   "outputs": [],
   "source": [
    "#dropping null rows\n",
    "df=df.dropna()"
   ]
  },
  {
   "cell_type": "code",
   "execution_count": 6,
   "id": "afe1f38c",
   "metadata": {
    "execution": {
     "iopub.execute_input": "2022-05-06T16:25:53.888544Z",
     "iopub.status.busy": "2022-05-06T16:25:53.888018Z",
     "iopub.status.idle": "2022-05-06T16:25:53.901903Z",
     "shell.execute_reply": "2022-05-06T16:25:53.901359Z"
    },
    "papermill": {
     "duration": 0.056302,
     "end_time": "2022-05-06T16:25:53.903761",
     "exception": false,
     "start_time": "2022-05-06T16:25:53.847459",
     "status": "completed"
    },
    "tags": []
   },
   "outputs": [
    {
     "data": {
      "text/html": [
       "<div>\n",
       "<style scoped>\n",
       "    .dataframe tbody tr th:only-of-type {\n",
       "        vertical-align: middle;\n",
       "    }\n",
       "\n",
       "    .dataframe tbody tr th {\n",
       "        vertical-align: top;\n",
       "    }\n",
       "\n",
       "    .dataframe thead th {\n",
       "        text-align: right;\n",
       "    }\n",
       "</style>\n",
       "<table border=\"1\" class=\"dataframe\">\n",
       "  <thead>\n",
       "    <tr style=\"text-align: right;\">\n",
       "      <th></th>\n",
       "      <th>title</th>\n",
       "      <th>author</th>\n",
       "      <th>date</th>\n",
       "      <th>views</th>\n",
       "      <th>likes</th>\n",
       "      <th>link</th>\n",
       "    </tr>\n",
       "  </thead>\n",
       "  <tbody>\n",
       "    <tr>\n",
       "      <th>0</th>\n",
       "      <td>Climate action needs new frontline leadership</td>\n",
       "      <td>Ozawa Bineshi Albert</td>\n",
       "      <td>December 2021</td>\n",
       "      <td>404000</td>\n",
       "      <td>12000</td>\n",
       "      <td>https://ted.com/talks/ozawa_bineshi_albert_cli...</td>\n",
       "    </tr>\n",
       "    <tr>\n",
       "      <th>1</th>\n",
       "      <td>The dark history of the overthrow of Hawaii</td>\n",
       "      <td>Sydney Iaukea</td>\n",
       "      <td>February 2022</td>\n",
       "      <td>214000</td>\n",
       "      <td>6400</td>\n",
       "      <td>https://ted.com/talks/sydney_iaukea_the_dark_h...</td>\n",
       "    </tr>\n",
       "    <tr>\n",
       "      <th>2</th>\n",
       "      <td>How play can spark new ideas for your business</td>\n",
       "      <td>Martin Reeves</td>\n",
       "      <td>September 2021</td>\n",
       "      <td>412000</td>\n",
       "      <td>12000</td>\n",
       "      <td>https://ted.com/talks/martin_reeves_how_play_c...</td>\n",
       "    </tr>\n",
       "    <tr>\n",
       "      <th>3</th>\n",
       "      <td>Why is China appointing judges to combat clima...</td>\n",
       "      <td>James K. Thornton</td>\n",
       "      <td>October 2021</td>\n",
       "      <td>427000</td>\n",
       "      <td>12000</td>\n",
       "      <td>https://ted.com/talks/james_k_thornton_why_is_...</td>\n",
       "    </tr>\n",
       "    <tr>\n",
       "      <th>4</th>\n",
       "      <td>Cement's carbon problem — and 2 ways to fix it</td>\n",
       "      <td>Mahendra Singhi</td>\n",
       "      <td>October 2021</td>\n",
       "      <td>2400</td>\n",
       "      <td>72</td>\n",
       "      <td>https://ted.com/talks/mahendra_singhi_cement_s...</td>\n",
       "    </tr>\n",
       "    <tr>\n",
       "      <th>...</th>\n",
       "      <td>...</td>\n",
       "      <td>...</td>\n",
       "      <td>...</td>\n",
       "      <td>...</td>\n",
       "      <td>...</td>\n",
       "      <td>...</td>\n",
       "    </tr>\n",
       "    <tr>\n",
       "      <th>5435</th>\n",
       "      <td>The best stats you've ever seen</td>\n",
       "      <td>Hans Rosling</td>\n",
       "      <td>February 2006</td>\n",
       "      <td>15000000</td>\n",
       "      <td>458000</td>\n",
       "      <td>https://ted.com/talks/hans_rosling_the_best_st...</td>\n",
       "    </tr>\n",
       "    <tr>\n",
       "      <th>5436</th>\n",
       "      <td>Do schools kill creativity?</td>\n",
       "      <td>Sir Ken Robinson</td>\n",
       "      <td>February 2006</td>\n",
       "      <td>72000000</td>\n",
       "      <td>2100000</td>\n",
       "      <td>https://ted.com/talks/sir_ken_robinson_do_scho...</td>\n",
       "    </tr>\n",
       "    <tr>\n",
       "      <th>5437</th>\n",
       "      <td>Greening the ghetto</td>\n",
       "      <td>Majora Carter</td>\n",
       "      <td>February 2006</td>\n",
       "      <td>2900000</td>\n",
       "      <td>88000</td>\n",
       "      <td>https://ted.com/talks/majora_carter_greening_t...</td>\n",
       "    </tr>\n",
       "    <tr>\n",
       "      <th>5438</th>\n",
       "      <td>Simplicity sells</td>\n",
       "      <td>David Pogue</td>\n",
       "      <td>February 2006</td>\n",
       "      <td>2000000</td>\n",
       "      <td>60000</td>\n",
       "      <td>https://ted.com/talks/david_pogue_simplicity_s...</td>\n",
       "    </tr>\n",
       "    <tr>\n",
       "      <th>5439</th>\n",
       "      <td>Averting the climate crisis</td>\n",
       "      <td>Al Gore</td>\n",
       "      <td>February 2006</td>\n",
       "      <td>3600000</td>\n",
       "      <td>109000</td>\n",
       "      <td>https://ted.com/talks/al_gore_averting_the_cli...</td>\n",
       "    </tr>\n",
       "  </tbody>\n",
       "</table>\n",
       "<p>5439 rows × 6 columns</p>\n",
       "</div>"
      ],
      "text/plain": [
       "                                                  title                author  \\\n",
       "0         Climate action needs new frontline leadership  Ozawa Bineshi Albert   \n",
       "1           The dark history of the overthrow of Hawaii         Sydney Iaukea   \n",
       "2        How play can spark new ideas for your business         Martin Reeves   \n",
       "3     Why is China appointing judges to combat clima...     James K. Thornton   \n",
       "4        Cement's carbon problem — and 2 ways to fix it       Mahendra Singhi   \n",
       "...                                                 ...                   ...   \n",
       "5435                    The best stats you've ever seen          Hans Rosling   \n",
       "5436                        Do schools kill creativity?      Sir Ken Robinson   \n",
       "5437                                Greening the ghetto         Majora Carter   \n",
       "5438                                   Simplicity sells           David Pogue   \n",
       "5439                        Averting the climate crisis               Al Gore   \n",
       "\n",
       "                date     views    likes  \\\n",
       "0      December 2021    404000    12000   \n",
       "1      February 2022    214000     6400   \n",
       "2     September 2021    412000    12000   \n",
       "3       October 2021    427000    12000   \n",
       "4       October 2021      2400       72   \n",
       "...              ...       ...      ...   \n",
       "5435   February 2006  15000000   458000   \n",
       "5436   February 2006  72000000  2100000   \n",
       "5437   February 2006   2900000    88000   \n",
       "5438   February 2006   2000000    60000   \n",
       "5439   February 2006   3600000   109000   \n",
       "\n",
       "                                                   link  \n",
       "0     https://ted.com/talks/ozawa_bineshi_albert_cli...  \n",
       "1     https://ted.com/talks/sydney_iaukea_the_dark_h...  \n",
       "2     https://ted.com/talks/martin_reeves_how_play_c...  \n",
       "3     https://ted.com/talks/james_k_thornton_why_is_...  \n",
       "4     https://ted.com/talks/mahendra_singhi_cement_s...  \n",
       "...                                                 ...  \n",
       "5435  https://ted.com/talks/hans_rosling_the_best_st...  \n",
       "5436  https://ted.com/talks/sir_ken_robinson_do_scho...  \n",
       "5437  https://ted.com/talks/majora_carter_greening_t...  \n",
       "5438  https://ted.com/talks/david_pogue_simplicity_s...  \n",
       "5439  https://ted.com/talks/al_gore_averting_the_cli...  \n",
       "\n",
       "[5439 rows x 6 columns]"
      ]
     },
     "execution_count": 6,
     "metadata": {},
     "output_type": "execute_result"
    }
   ],
   "source": [
    "df\n",
    "#one row is being removed"
   ]
  },
  {
   "cell_type": "code",
   "execution_count": 7,
   "id": "bb5d820a",
   "metadata": {
    "execution": {
     "iopub.execute_input": "2022-05-06T16:25:53.986858Z",
     "iopub.status.busy": "2022-05-06T16:25:53.986363Z",
     "iopub.status.idle": "2022-05-06T16:25:53.992666Z",
     "shell.execute_reply": "2022-05-06T16:25:53.992007Z"
    },
    "papermill": {
     "duration": 0.050071,
     "end_time": "2022-05-06T16:25:53.994447",
     "exception": false,
     "start_time": "2022-05-06T16:25:53.944376",
     "status": "completed"
    },
    "tags": []
   },
   "outputs": [
    {
     "data": {
      "text/plain": [
       "array([['Climate action needs new frontline leadership',\n",
       "        'Ozawa Bineshi Albert', 'December 2021', 404000, 12000,\n",
       "        'https://ted.com/talks/ozawa_bineshi_albert_climate_action_needs_new_frontline_leadership'],\n",
       "       ['The dark history of the overthrow of Hawaii', 'Sydney Iaukea',\n",
       "        'February 2022', 214000, 6400,\n",
       "        'https://ted.com/talks/sydney_iaukea_the_dark_history_of_the_overthrow_of_hawaii'],\n",
       "       ['How play can spark new ideas for your business',\n",
       "        'Martin Reeves', 'September 2021', 412000, 12000,\n",
       "        'https://ted.com/talks/martin_reeves_how_play_can_spark_new_ideas_for_your_business'],\n",
       "       ...,\n",
       "       ['Greening the ghetto', 'Majora Carter', 'February 2006', 2900000,\n",
       "        88000, 'https://ted.com/talks/majora_carter_greening_the_ghetto'],\n",
       "       ['Simplicity sells', 'David Pogue', 'February 2006', 2000000,\n",
       "        60000, 'https://ted.com/talks/david_pogue_simplicity_sells'],\n",
       "       ['Averting the climate crisis', 'Al Gore', 'February 2006',\n",
       "        3600000, 109000,\n",
       "        'https://ted.com/talks/al_gore_averting_the_climate_crisis']],\n",
       "      dtype=object)"
      ]
     },
     "execution_count": 7,
     "metadata": {},
     "output_type": "execute_result"
    }
   ],
   "source": [
    "#converting to 2d array (lists of list)\n",
    "data=df.values\n",
    "data"
   ]
  },
  {
   "cell_type": "code",
   "execution_count": 8,
   "id": "4c0a1355",
   "metadata": {
    "execution": {
     "iopub.execute_input": "2022-05-06T16:25:54.077624Z",
     "iopub.status.busy": "2022-05-06T16:25:54.077105Z",
     "iopub.status.idle": "2022-05-06T16:25:54.080359Z",
     "shell.execute_reply": "2022-05-06T16:25:54.079583Z"
    },
    "papermill": {
     "duration": 0.047282,
     "end_time": "2022-05-06T16:25:54.082224",
     "exception": false,
     "start_time": "2022-05-06T16:25:54.034942",
     "status": "completed"
    },
    "tags": []
   },
   "outputs": [],
   "source": [
    "#df['author']"
   ]
  },
  {
   "cell_type": "code",
   "execution_count": 9,
   "id": "120e2982",
   "metadata": {
    "execution": {
     "iopub.execute_input": "2022-05-06T16:25:54.165873Z",
     "iopub.status.busy": "2022-05-06T16:25:54.165379Z",
     "iopub.status.idle": "2022-05-06T16:25:54.170372Z",
     "shell.execute_reply": "2022-05-06T16:25:54.169388Z"
    },
    "papermill": {
     "duration": 0.049095,
     "end_time": "2022-05-06T16:25:54.172512",
     "exception": false,
     "start_time": "2022-05-06T16:25:54.123417",
     "status": "completed"
    },
    "tags": []
   },
   "outputs": [
    {
     "name": "stdout",
     "output_type": "stream",
     "text": [
      "Ozawa Bineshi Albert\n",
      "Sydney Iaukea\n",
      "Martin Reeves\n",
      "James K. Thornton\n",
      "Mahendra Singhi\n"
     ]
    }
   ],
   "source": [
    "#printing 5 authors using for loop\n",
    "\n",
    "for i in range(5):\n",
    "    print(data[i][1])"
   ]
  },
  {
   "cell_type": "markdown",
   "id": "4679b7e1",
   "metadata": {
    "papermill": {
     "duration": 0.040878,
     "end_time": "2022-05-06T16:25:54.255329",
     "exception": false,
     "start_time": "2022-05-06T16:25:54.214451",
     "status": "completed"
    },
    "tags": []
   },
   "source": []
  },
  {
   "cell_type": "markdown",
   "id": "0e03ba99",
   "metadata": {
    "papermill": {
     "duration": 0.040464,
     "end_time": "2022-05-06T16:25:54.337147",
     "exception": false,
     "start_time": "2022-05-06T16:25:54.296683",
     "status": "completed"
    },
    "tags": []
   },
   "source": [
    "# Total number of authors"
   ]
  },
  {
   "cell_type": "code",
   "execution_count": 10,
   "id": "7df302b7",
   "metadata": {
    "execution": {
     "iopub.execute_input": "2022-05-06T16:25:54.420420Z",
     "iopub.status.busy": "2022-05-06T16:25:54.420132Z",
     "iopub.status.idle": "2022-05-06T16:25:54.428919Z",
     "shell.execute_reply": "2022-05-06T16:25:54.428139Z"
    },
    "papermill": {
     "duration": 0.053006,
     "end_time": "2022-05-06T16:25:54.431089",
     "exception": false,
     "start_time": "2022-05-06T16:25:54.378083",
     "status": "completed"
    },
    "tags": []
   },
   "outputs": [
    {
     "name": "stdout",
     "output_type": "stream",
     "text": [
      "4443\n"
     ]
    }
   ],
   "source": [
    "li=[]\n",
    "for i in range(len(data)):\n",
    "    li.append(data[i][1])\n",
    "li=set(li)   \n",
    "print(len(li))"
   ]
  },
  {
   "cell_type": "markdown",
   "id": "3ac4fd8c",
   "metadata": {
    "papermill": {
     "duration": 0.040894,
     "end_time": "2022-05-06T16:25:54.514591",
     "exception": false,
     "start_time": "2022-05-06T16:25:54.473697",
     "status": "completed"
    },
    "tags": []
   },
   "source": [
    "# Average number of views for Bill Gates"
   ]
  },
  {
   "cell_type": "code",
   "execution_count": 11,
   "id": "4832b0af",
   "metadata": {
    "execution": {
     "iopub.execute_input": "2022-05-06T16:25:54.598108Z",
     "iopub.status.busy": "2022-05-06T16:25:54.597793Z",
     "iopub.status.idle": "2022-05-06T16:25:54.606476Z",
     "shell.execute_reply": "2022-05-06T16:25:54.605656Z"
    },
    "papermill": {
     "duration": 0.053369,
     "end_time": "2022-05-06T16:25:54.609068",
     "exception": false,
     "start_time": "2022-05-06T16:25:54.555699",
     "status": "completed"
    },
    "tags": []
   },
   "outputs": [
    {
     "name": "stdout",
     "output_type": "stream",
     "text": [
      "9725000.0\n"
     ]
    }
   ],
   "source": [
    "views=[]\n",
    "count=0\n",
    "for i in range(len(data)):\n",
    "    if data[i][1]=='Bill Gates':\n",
    "        count+=1\n",
    "        views.append(data[i][3])\n",
    "print(sum(views)/count)        "
   ]
  },
  {
   "cell_type": "markdown",
   "id": "e91d9ef8",
   "metadata": {
    "papermill": {
     "duration": 0.041485,
     "end_time": "2022-05-06T16:25:54.695183",
     "exception": false,
     "start_time": "2022-05-06T16:25:54.653698",
     "status": "completed"
    },
    "tags": []
   },
   "source": [
    "### using inbuilt function"
   ]
  },
  {
   "cell_type": "code",
   "execution_count": 12,
   "id": "c81587d4",
   "metadata": {
    "execution": {
     "iopub.execute_input": "2022-05-06T16:25:54.780520Z",
     "iopub.status.busy": "2022-05-06T16:25:54.780058Z",
     "iopub.status.idle": "2022-05-06T16:25:54.790073Z",
     "shell.execute_reply": "2022-05-06T16:25:54.789502Z"
    },
    "papermill": {
     "duration": 0.054782,
     "end_time": "2022-05-06T16:25:54.791896",
     "exception": false,
     "start_time": "2022-05-06T16:25:54.737114",
     "status": "completed"
    },
    "tags": []
   },
   "outputs": [
    {
     "data": {
      "text/plain": [
       "9725000.0"
      ]
     },
     "execution_count": 12,
     "metadata": {},
     "output_type": "execute_result"
    }
   ],
   "source": [
    "df[df['author']=='Bill Gates']['views'].mean()"
   ]
  },
  {
   "cell_type": "code",
   "execution_count": 13,
   "id": "e6804e4c",
   "metadata": {
    "execution": {
     "iopub.execute_input": "2022-05-06T16:25:54.880562Z",
     "iopub.status.busy": "2022-05-06T16:25:54.880119Z",
     "iopub.status.idle": "2022-05-06T16:25:54.884575Z",
     "shell.execute_reply": "2022-05-06T16:25:54.883571Z"
    },
    "papermill": {
     "duration": 0.050969,
     "end_time": "2022-05-06T16:25:54.886485",
     "exception": false,
     "start_time": "2022-05-06T16:25:54.835516",
     "status": "completed"
    },
    "tags": []
   },
   "outputs": [
    {
     "name": "stdout",
     "output_type": "stream",
     "text": [
      "number of talks given by Bill Gates: 8\n"
     ]
    }
   ],
   "source": [
    "#prints number of talks given by Bill Gates\n",
    "print(\"number of talks given by Bill Gates:\",count)"
   ]
  },
  {
   "cell_type": "code",
   "execution_count": 14,
   "id": "187e3878",
   "metadata": {
    "execution": {
     "iopub.execute_input": "2022-05-06T16:25:54.973716Z",
     "iopub.status.busy": "2022-05-06T16:25:54.973417Z",
     "iopub.status.idle": "2022-05-06T16:25:54.984976Z",
     "shell.execute_reply": "2022-05-06T16:25:54.984369Z"
    },
    "papermill": {
     "duration": 0.05736,
     "end_time": "2022-05-06T16:25:54.987211",
     "exception": false,
     "start_time": "2022-05-06T16:25:54.929851",
     "status": "completed"
    },
    "tags": []
   },
   "outputs": [
    {
     "data": {
      "text/html": [
       "<div>\n",
       "<style scoped>\n",
       "    .dataframe tbody tr th:only-of-type {\n",
       "        vertical-align: middle;\n",
       "    }\n",
       "\n",
       "    .dataframe tbody tr th {\n",
       "        vertical-align: top;\n",
       "    }\n",
       "\n",
       "    .dataframe thead th {\n",
       "        text-align: right;\n",
       "    }\n",
       "</style>\n",
       "<table border=\"1\" class=\"dataframe\">\n",
       "  <thead>\n",
       "    <tr style=\"text-align: right;\">\n",
       "      <th></th>\n",
       "      <th>title</th>\n",
       "      <th>author</th>\n",
       "      <th>date</th>\n",
       "      <th>views</th>\n",
       "      <th>likes</th>\n",
       "      <th>link</th>\n",
       "    </tr>\n",
       "  </thead>\n",
       "  <tbody>\n",
       "    <tr>\n",
       "      <th>0</th>\n",
       "      <td>Climate action needs new frontline leadership</td>\n",
       "      <td>Ozawa Bineshi Albert</td>\n",
       "      <td>December 2021</td>\n",
       "      <td>404000</td>\n",
       "      <td>12000</td>\n",
       "      <td>https://ted.com/talks/ozawa_bineshi_albert_cli...</td>\n",
       "    </tr>\n",
       "    <tr>\n",
       "      <th>1</th>\n",
       "      <td>The dark history of the overthrow of Hawaii</td>\n",
       "      <td>Sydney Iaukea</td>\n",
       "      <td>February 2022</td>\n",
       "      <td>214000</td>\n",
       "      <td>6400</td>\n",
       "      <td>https://ted.com/talks/sydney_iaukea_the_dark_h...</td>\n",
       "    </tr>\n",
       "    <tr>\n",
       "      <th>2</th>\n",
       "      <td>How play can spark new ideas for your business</td>\n",
       "      <td>Martin Reeves</td>\n",
       "      <td>September 2021</td>\n",
       "      <td>412000</td>\n",
       "      <td>12000</td>\n",
       "      <td>https://ted.com/talks/martin_reeves_how_play_c...</td>\n",
       "    </tr>\n",
       "    <tr>\n",
       "      <th>3</th>\n",
       "      <td>Why is China appointing judges to combat clima...</td>\n",
       "      <td>James K. Thornton</td>\n",
       "      <td>October 2021</td>\n",
       "      <td>427000</td>\n",
       "      <td>12000</td>\n",
       "      <td>https://ted.com/talks/james_k_thornton_why_is_...</td>\n",
       "    </tr>\n",
       "    <tr>\n",
       "      <th>4</th>\n",
       "      <td>Cement's carbon problem — and 2 ways to fix it</td>\n",
       "      <td>Mahendra Singhi</td>\n",
       "      <td>October 2021</td>\n",
       "      <td>2400</td>\n",
       "      <td>72</td>\n",
       "      <td>https://ted.com/talks/mahendra_singhi_cement_s...</td>\n",
       "    </tr>\n",
       "  </tbody>\n",
       "</table>\n",
       "</div>"
      ],
      "text/plain": [
       "                                               title                author  \\\n",
       "0      Climate action needs new frontline leadership  Ozawa Bineshi Albert   \n",
       "1        The dark history of the overthrow of Hawaii         Sydney Iaukea   \n",
       "2     How play can spark new ideas for your business         Martin Reeves   \n",
       "3  Why is China appointing judges to combat clima...     James K. Thornton   \n",
       "4     Cement's carbon problem — and 2 ways to fix it       Mahendra Singhi   \n",
       "\n",
       "             date   views  likes  \\\n",
       "0   December 2021  404000  12000   \n",
       "1   February 2022  214000   6400   \n",
       "2  September 2021  412000  12000   \n",
       "3    October 2021  427000  12000   \n",
       "4    October 2021    2400     72   \n",
       "\n",
       "                                                link  \n",
       "0  https://ted.com/talks/ozawa_bineshi_albert_cli...  \n",
       "1  https://ted.com/talks/sydney_iaukea_the_dark_h...  \n",
       "2  https://ted.com/talks/martin_reeves_how_play_c...  \n",
       "3  https://ted.com/talks/james_k_thornton_why_is_...  \n",
       "4  https://ted.com/talks/mahendra_singhi_cement_s...  "
      ]
     },
     "execution_count": 14,
     "metadata": {},
     "output_type": "execute_result"
    }
   ],
   "source": [
    "df.head()"
   ]
  },
  {
   "cell_type": "markdown",
   "id": "7967d8f1",
   "metadata": {
    "papermill": {
     "duration": 0.042717,
     "end_time": "2022-05-06T16:25:55.073463",
     "exception": false,
     "start_time": "2022-05-06T16:25:55.030746",
     "status": "completed"
    },
    "tags": []
   },
   "source": [
    "# Adding new column *view to like ratio*"
   ]
  },
  {
   "cell_type": "code",
   "execution_count": 15,
   "id": "69301b8c",
   "metadata": {
    "execution": {
     "iopub.execute_input": "2022-05-06T16:25:55.162986Z",
     "iopub.status.busy": "2022-05-06T16:25:55.162472Z",
     "iopub.status.idle": "2022-05-06T16:25:55.179568Z",
     "shell.execute_reply": "2022-05-06T16:25:55.178581Z"
    },
    "papermill": {
     "duration": 0.065291,
     "end_time": "2022-05-06T16:25:55.182522",
     "exception": false,
     "start_time": "2022-05-06T16:25:55.117231",
     "status": "completed"
    },
    "tags": []
   },
   "outputs": [
    {
     "name": "stderr",
     "output_type": "stream",
     "text": [
      "/opt/conda/lib/python3.7/site-packages/ipykernel_launcher.py:5: SettingWithCopyWarning: \n",
      "A value is trying to be set on a copy of a slice from a DataFrame.\n",
      "Try using .loc[row_indexer,col_indexer] = value instead\n",
      "\n",
      "See the caveats in the documentation: https://pandas.pydata.org/pandas-docs/stable/user_guide/indexing.html#returning-a-view-versus-a-copy\n",
      "  \"\"\"\n"
     ]
    }
   ],
   "source": [
    "vlr=[]\n",
    "for i in range(len(data)):\n",
    "    vlr.append(round(data[i][3]/data[i][4],2))\n",
    "\n",
    "df['view_to_like_ratio'] =vlr;  \n",
    "    "
   ]
  },
  {
   "cell_type": "code",
   "execution_count": 16,
   "id": "1c4b2691",
   "metadata": {
    "execution": {
     "iopub.execute_input": "2022-05-06T16:25:55.272291Z",
     "iopub.status.busy": "2022-05-06T16:25:55.271664Z",
     "iopub.status.idle": "2022-05-06T16:25:55.285182Z",
     "shell.execute_reply": "2022-05-06T16:25:55.284308Z"
    },
    "papermill": {
     "duration": 0.061081,
     "end_time": "2022-05-06T16:25:55.287194",
     "exception": false,
     "start_time": "2022-05-06T16:25:55.226113",
     "status": "completed"
    },
    "tags": []
   },
   "outputs": [
    {
     "data": {
      "text/html": [
       "<div>\n",
       "<style scoped>\n",
       "    .dataframe tbody tr th:only-of-type {\n",
       "        vertical-align: middle;\n",
       "    }\n",
       "\n",
       "    .dataframe tbody tr th {\n",
       "        vertical-align: top;\n",
       "    }\n",
       "\n",
       "    .dataframe thead th {\n",
       "        text-align: right;\n",
       "    }\n",
       "</style>\n",
       "<table border=\"1\" class=\"dataframe\">\n",
       "  <thead>\n",
       "    <tr style=\"text-align: right;\">\n",
       "      <th></th>\n",
       "      <th>title</th>\n",
       "      <th>author</th>\n",
       "      <th>date</th>\n",
       "      <th>views</th>\n",
       "      <th>likes</th>\n",
       "      <th>link</th>\n",
       "      <th>view_to_like_ratio</th>\n",
       "    </tr>\n",
       "  </thead>\n",
       "  <tbody>\n",
       "    <tr>\n",
       "      <th>0</th>\n",
       "      <td>Climate action needs new frontline leadership</td>\n",
       "      <td>Ozawa Bineshi Albert</td>\n",
       "      <td>December 2021</td>\n",
       "      <td>404000</td>\n",
       "      <td>12000</td>\n",
       "      <td>https://ted.com/talks/ozawa_bineshi_albert_cli...</td>\n",
       "      <td>33.67</td>\n",
       "    </tr>\n",
       "    <tr>\n",
       "      <th>1</th>\n",
       "      <td>The dark history of the overthrow of Hawaii</td>\n",
       "      <td>Sydney Iaukea</td>\n",
       "      <td>February 2022</td>\n",
       "      <td>214000</td>\n",
       "      <td>6400</td>\n",
       "      <td>https://ted.com/talks/sydney_iaukea_the_dark_h...</td>\n",
       "      <td>33.44</td>\n",
       "    </tr>\n",
       "    <tr>\n",
       "      <th>2</th>\n",
       "      <td>How play can spark new ideas for your business</td>\n",
       "      <td>Martin Reeves</td>\n",
       "      <td>September 2021</td>\n",
       "      <td>412000</td>\n",
       "      <td>12000</td>\n",
       "      <td>https://ted.com/talks/martin_reeves_how_play_c...</td>\n",
       "      <td>34.33</td>\n",
       "    </tr>\n",
       "    <tr>\n",
       "      <th>3</th>\n",
       "      <td>Why is China appointing judges to combat clima...</td>\n",
       "      <td>James K. Thornton</td>\n",
       "      <td>October 2021</td>\n",
       "      <td>427000</td>\n",
       "      <td>12000</td>\n",
       "      <td>https://ted.com/talks/james_k_thornton_why_is_...</td>\n",
       "      <td>35.58</td>\n",
       "    </tr>\n",
       "    <tr>\n",
       "      <th>4</th>\n",
       "      <td>Cement's carbon problem — and 2 ways to fix it</td>\n",
       "      <td>Mahendra Singhi</td>\n",
       "      <td>October 2021</td>\n",
       "      <td>2400</td>\n",
       "      <td>72</td>\n",
       "      <td>https://ted.com/talks/mahendra_singhi_cement_s...</td>\n",
       "      <td>33.33</td>\n",
       "    </tr>\n",
       "  </tbody>\n",
       "</table>\n",
       "</div>"
      ],
      "text/plain": [
       "                                               title                author  \\\n",
       "0      Climate action needs new frontline leadership  Ozawa Bineshi Albert   \n",
       "1        The dark history of the overthrow of Hawaii         Sydney Iaukea   \n",
       "2     How play can spark new ideas for your business         Martin Reeves   \n",
       "3  Why is China appointing judges to combat clima...     James K. Thornton   \n",
       "4     Cement's carbon problem — and 2 ways to fix it       Mahendra Singhi   \n",
       "\n",
       "             date   views  likes  \\\n",
       "0   December 2021  404000  12000   \n",
       "1   February 2022  214000   6400   \n",
       "2  September 2021  412000  12000   \n",
       "3    October 2021  427000  12000   \n",
       "4    October 2021    2400     72   \n",
       "\n",
       "                                                link  view_to_like_ratio  \n",
       "0  https://ted.com/talks/ozawa_bineshi_albert_cli...               33.67  \n",
       "1  https://ted.com/talks/sydney_iaukea_the_dark_h...               33.44  \n",
       "2  https://ted.com/talks/martin_reeves_how_play_c...               34.33  \n",
       "3  https://ted.com/talks/james_k_thornton_why_is_...               35.58  \n",
       "4  https://ted.com/talks/mahendra_singhi_cement_s...               33.33  "
      ]
     },
     "execution_count": 16,
     "metadata": {},
     "output_type": "execute_result"
    }
   ],
   "source": [
    "df.head()"
   ]
  },
  {
   "cell_type": "code",
   "execution_count": 17,
   "id": "ed489d07",
   "metadata": {
    "execution": {
     "iopub.execute_input": "2022-05-06T16:25:55.378455Z",
     "iopub.status.busy": "2022-05-06T16:25:55.377677Z",
     "iopub.status.idle": "2022-05-06T16:25:55.382964Z",
     "shell.execute_reply": "2022-05-06T16:25:55.381943Z"
    },
    "papermill": {
     "duration": 0.052512,
     "end_time": "2022-05-06T16:25:55.384781",
     "exception": false,
     "start_time": "2022-05-06T16:25:55.332269",
     "status": "completed"
    },
    "tags": []
   },
   "outputs": [
    {
     "name": "stdout",
     "output_type": "stream",
     "text": [
      "36.4\n",
      "30.4\n"
     ]
    }
   ],
   "source": [
    "print(max(vlr))\n",
    "print(min(vlr))"
   ]
  },
  {
   "cell_type": "markdown",
   "id": "68524756",
   "metadata": {
    "papermill": {
     "duration": 0.043942,
     "end_time": "2022-05-06T16:25:55.473459",
     "exception": false,
     "start_time": "2022-05-06T16:25:55.429517",
     "status": "completed"
    },
    "tags": []
   },
   "source": [
    "# ted talks given by bill gates"
   ]
  },
  {
   "cell_type": "code",
   "execution_count": 18,
   "id": "cc7d587f",
   "metadata": {
    "execution": {
     "iopub.execute_input": "2022-05-06T16:25:55.563919Z",
     "iopub.status.busy": "2022-05-06T16:25:55.562897Z",
     "iopub.status.idle": "2022-05-06T16:25:55.572829Z",
     "shell.execute_reply": "2022-05-06T16:25:55.572249Z"
    },
    "papermill": {
     "duration": 0.057036,
     "end_time": "2022-05-06T16:25:55.574698",
     "exception": false,
     "start_time": "2022-05-06T16:25:55.517662",
     "status": "completed"
    },
    "tags": []
   },
   "outputs": [
    {
     "data": {
      "text/plain": [
       "403     The innovations we need to avoid a climate dis...\n",
       "789           How the pandemic will shape the near future\n",
       "952       How we must respond to the coronavirus pandemic\n",
       "3251                   The next outbreak? We're not ready\n",
       "3878                          Teachers need real feedback\n",
       "4560            How state budgets are breaking US schools\n",
       "4824                                  Innovating to zero!\n",
       "5062                     Mosquitos, malaria and education\n",
       "Name: title, dtype: object"
      ]
     },
     "execution_count": 18,
     "metadata": {},
     "output_type": "execute_result"
    }
   ],
   "source": [
    "df[df['author']=='Bill Gates']['title']"
   ]
  },
  {
   "cell_type": "markdown",
   "id": "d0435330",
   "metadata": {
    "papermill": {
     "duration": 0.044733,
     "end_time": "2022-05-06T16:25:55.664229",
     "exception": false,
     "start_time": "2022-05-06T16:25:55.619496",
     "status": "completed"
    },
    "tags": []
   },
   "source": [
    "# Author given most number of ted talks\n",
    "### 2 approaches:-"
   ]
  },
  {
   "cell_type": "code",
   "execution_count": 19,
   "id": "3cc8fdd9",
   "metadata": {
    "execution": {
     "iopub.execute_input": "2022-05-06T16:25:55.755746Z",
     "iopub.status.busy": "2022-05-06T16:25:55.755075Z",
     "iopub.status.idle": "2022-05-06T16:25:55.770036Z",
     "shell.execute_reply": "2022-05-06T16:25:55.769248Z"
    },
    "papermill": {
     "duration": 0.063065,
     "end_time": "2022-05-06T16:25:55.772212",
     "exception": false,
     "start_time": "2022-05-06T16:25:55.709147",
     "status": "completed"
    },
    "tags": []
   },
   "outputs": [
    {
     "data": {
      "text/plain": [
       "count             5439\n",
       "unique            4443\n",
       "top       Alex Gendler\n",
       "freq                45\n",
       "Name: author, dtype: object"
      ]
     },
     "execution_count": 19,
     "metadata": {},
     "output_type": "execute_result"
    }
   ],
   "source": [
    "df['author'].describe()\n",
    "# this reveals that Alex Gendler has given most number of ted talks(45 talks)"
   ]
  },
  {
   "cell_type": "markdown",
   "id": "5b3012a2",
   "metadata": {
    "papermill": {
     "duration": 0.044854,
     "end_time": "2022-05-06T16:25:55.862274",
     "exception": false,
     "start_time": "2022-05-06T16:25:55.817420",
     "status": "completed"
    },
    "tags": []
   },
   "source": [
    "# Search ted talks for a specific subject"
   ]
  },
  {
   "cell_type": "code",
   "execution_count": 20,
   "id": "7b2bf946",
   "metadata": {
    "execution": {
     "iopub.execute_input": "2022-05-06T16:25:55.954889Z",
     "iopub.status.busy": "2022-05-06T16:25:55.954484Z",
     "iopub.status.idle": "2022-05-06T16:25:55.967392Z",
     "shell.execute_reply": "2022-05-06T16:25:55.966548Z"
    },
    "papermill": {
     "duration": 0.061114,
     "end_time": "2022-05-06T16:25:55.969290",
     "exception": false,
     "start_time": "2022-05-06T16:25:55.908176",
     "status": "completed"
    },
    "tags": []
   },
   "outputs": [
    {
     "name": "stdout",
     "output_type": "stream",
     "text": [
      "Sex education should start with consent\n",
      "Education is a fundamental right for every child\n",
      "3 ways to lower the barriers to higher education\n",
      "What COVID-19 revealed about US schools — and 4 ways to rethink education\n",
      "Rethinking education and celebrating the Arabic language\n",
      "A path to higher education and employment for refugees\n",
      "The \"opportunity gap\" in US public education — and how to close it\n",
      "The benefits of music education\n",
      "How education helped me rewrite my life\n",
      "How peer educators can transform sex education\n",
      "Sir Ken Robinson (still) wants an education revolution\t\n",
      "Why we need to make education more accessible to the deaf\n",
      "Why I fight for the education of refugee girls (like me)\n",
      "The case for reforming STEM education\n",
      "Help for kids the education system ignores\n",
      "How to fix a broken education system ... without any more money\n",
      "How to escape education's death valley\n",
      "What we're learning from online education\n",
      "Let's use video to reinvent education\n",
      "Changing education paradigms\n",
      "The child-driven education\n",
      "Education innovation in the slums\n",
      "A call to reinvent liberal arts education\n",
      "A passionate, personal case for education\n",
      "Mosquitos, malaria and education\n",
      "My wish: Manufactured landscapes and green education\n"
     ]
    }
   ],
   "source": [
    "#topic=input(\"Enter the topic to be queried:\")\n",
    "topic='EdUCaTion'\n",
    "for i in range(len(data)):\n",
    "    if topic.lower() in data[i][0].lower():\n",
    "        print(data[i][0])"
   ]
  },
  {
   "cell_type": "markdown",
   "id": "01a128aa",
   "metadata": {
    "papermill": {
     "duration": 0.046769,
     "end_time": "2022-05-06T16:25:56.062646",
     "exception": false,
     "start_time": "2022-05-06T16:25:56.015877",
     "status": "completed"
    },
    "tags": []
   },
   "source": [
    "# Top 5 ted talks based on likes\n",
    "## sort_values()"
   ]
  },
  {
   "cell_type": "code",
   "execution_count": 21,
   "id": "a8de32e9",
   "metadata": {
    "execution": {
     "iopub.execute_input": "2022-05-06T16:25:56.155277Z",
     "iopub.status.busy": "2022-05-06T16:25:56.154633Z",
     "iopub.status.idle": "2022-05-06T16:25:56.168042Z",
     "shell.execute_reply": "2022-05-06T16:25:56.167443Z"
    },
    "papermill": {
     "duration": 0.061824,
     "end_time": "2022-05-06T16:25:56.169914",
     "exception": false,
     "start_time": "2022-05-06T16:25:56.108090",
     "status": "completed"
    },
    "tags": []
   },
   "outputs": [
    {
     "data": {
      "text/html": [
       "<div>\n",
       "<style scoped>\n",
       "    .dataframe tbody tr th:only-of-type {\n",
       "        vertical-align: middle;\n",
       "    }\n",
       "\n",
       "    .dataframe tbody tr th {\n",
       "        vertical-align: top;\n",
       "    }\n",
       "\n",
       "    .dataframe thead th {\n",
       "        text-align: right;\n",
       "    }\n",
       "</style>\n",
       "<table border=\"1\" class=\"dataframe\">\n",
       "  <thead>\n",
       "    <tr style=\"text-align: right;\">\n",
       "      <th></th>\n",
       "      <th>title</th>\n",
       "      <th>author</th>\n",
       "      <th>date</th>\n",
       "      <th>views</th>\n",
       "      <th>likes</th>\n",
       "      <th>link</th>\n",
       "      <th>view_to_like_ratio</th>\n",
       "    </tr>\n",
       "  </thead>\n",
       "  <tbody>\n",
       "    <tr>\n",
       "      <th>5436</th>\n",
       "      <td>Do schools kill creativity?</td>\n",
       "      <td>Sir Ken Robinson</td>\n",
       "      <td>February 2006</td>\n",
       "      <td>72000000</td>\n",
       "      <td>2100000</td>\n",
       "      <td>https://ted.com/talks/sir_ken_robinson_do_scho...</td>\n",
       "      <td>34.29</td>\n",
       "    </tr>\n",
       "    <tr>\n",
       "      <th>4084</th>\n",
       "      <td>Your body language may shape who you are</td>\n",
       "      <td>Amy Cuddy</td>\n",
       "      <td>June 2012</td>\n",
       "      <td>64000000</td>\n",
       "      <td>1900000</td>\n",
       "      <td>https://ted.com/talks/amy_cuddy_your_body_lang...</td>\n",
       "      <td>33.68</td>\n",
       "    </tr>\n",
       "    <tr>\n",
       "      <th>2958</th>\n",
       "      <td>Inside the mind of a master procrastinator</td>\n",
       "      <td>Tim Urban</td>\n",
       "      <td>February 2016</td>\n",
       "      <td>60000000</td>\n",
       "      <td>1800000</td>\n",
       "      <td>https://ted.com/talks/tim_urban_inside_the_min...</td>\n",
       "      <td>33.33</td>\n",
       "    </tr>\n",
       "    <tr>\n",
       "      <th>4765</th>\n",
       "      <td>How great leaders inspire action</td>\n",
       "      <td>Simon Sinek</td>\n",
       "      <td>September 2009</td>\n",
       "      <td>57000000</td>\n",
       "      <td>1700000</td>\n",
       "      <td>https://ted.com/talks/simon_sinek_how_great_le...</td>\n",
       "      <td>33.53</td>\n",
       "    </tr>\n",
       "    <tr>\n",
       "      <th>4605</th>\n",
       "      <td>The power of vulnerability</td>\n",
       "      <td>Brené Brown</td>\n",
       "      <td>June 2010</td>\n",
       "      <td>56000000</td>\n",
       "      <td>1700000</td>\n",
       "      <td>https://ted.com/talks/brene_brown_the_power_of...</td>\n",
       "      <td>32.94</td>\n",
       "    </tr>\n",
       "  </tbody>\n",
       "</table>\n",
       "</div>"
      ],
      "text/plain": [
       "                                           title            author  \\\n",
       "5436                 Do schools kill creativity?  Sir Ken Robinson   \n",
       "4084    Your body language may shape who you are         Amy Cuddy   \n",
       "2958  Inside the mind of a master procrastinator         Tim Urban   \n",
       "4765            How great leaders inspire action       Simon Sinek   \n",
       "4605                  The power of vulnerability       Brené Brown   \n",
       "\n",
       "                date     views    likes  \\\n",
       "5436   February 2006  72000000  2100000   \n",
       "4084       June 2012  64000000  1900000   \n",
       "2958   February 2016  60000000  1800000   \n",
       "4765  September 2009  57000000  1700000   \n",
       "4605       June 2010  56000000  1700000   \n",
       "\n",
       "                                                   link  view_to_like_ratio  \n",
       "5436  https://ted.com/talks/sir_ken_robinson_do_scho...               34.29  \n",
       "4084  https://ted.com/talks/amy_cuddy_your_body_lang...               33.68  \n",
       "2958  https://ted.com/talks/tim_urban_inside_the_min...               33.33  \n",
       "4765  https://ted.com/talks/simon_sinek_how_great_le...               33.53  \n",
       "4605  https://ted.com/talks/brene_brown_the_power_of...               32.94  "
      ]
     },
     "execution_count": 21,
     "metadata": {},
     "output_type": "execute_result"
    }
   ],
   "source": [
    "df.sort_values(by='likes',ascending=False).head()"
   ]
  },
  {
   "cell_type": "markdown",
   "id": "bb2d1bdb",
   "metadata": {
    "papermill": {
     "duration": 0.045604,
     "end_time": "2022-05-06T16:25:56.261720",
     "exception": false,
     "start_time": "2022-05-06T16:25:56.216116",
     "status": "completed"
    },
    "tags": []
   },
   "source": [
    "# Top 10 authors given most number of ted talks\n",
    "## groupby()"
   ]
  },
  {
   "cell_type": "code",
   "execution_count": 22,
   "id": "7e905eaa",
   "metadata": {
    "execution": {
     "iopub.execute_input": "2022-05-06T16:25:56.355450Z",
     "iopub.status.busy": "2022-05-06T16:25:56.355022Z",
     "iopub.status.idle": "2022-05-06T16:25:56.369426Z",
     "shell.execute_reply": "2022-05-06T16:25:56.368849Z"
    },
    "papermill": {
     "duration": 0.063604,
     "end_time": "2022-05-06T16:25:56.371285",
     "exception": false,
     "start_time": "2022-05-06T16:25:56.307681",
     "status": "completed"
    },
    "tags": []
   },
   "outputs": [
    {
     "data": {
      "text/plain": [
       "author\n",
       "Alex Gendler        45\n",
       "Iseult Gillespie    33\n",
       "Matt Walker         18\n",
       "Alex Rosenthal      15\n",
       "Elizabeth Cox       13\n",
       "Emma Bryce          12\n",
       "Daniel Finkel       11\n",
       "Juan Enriquez       11\n",
       "Dan Finkel           9\n",
       "Hans Rosling         9\n",
       "dtype: int64"
      ]
     },
     "execution_count": 22,
     "metadata": {},
     "output_type": "execute_result"
    }
   ],
   "source": [
    "df.groupby('author').size().sort_values(ascending=False).head(10)"
   ]
  },
  {
   "cell_type": "markdown",
   "id": "5b812675",
   "metadata": {
    "papermill": {
     "duration": 0.046009,
     "end_time": "2022-05-06T16:25:56.465642",
     "exception": false,
     "start_time": "2022-05-06T16:25:56.419633",
     "status": "completed"
    },
    "tags": []
   },
   "source": [
    "# no of ted talks happened in a particular year"
   ]
  },
  {
   "cell_type": "markdown",
   "id": "d5f7d987",
   "metadata": {
    "papermill": {
     "duration": 0.046,
     "end_time": "2022-05-06T16:25:56.557986",
     "exception": false,
     "start_time": "2022-05-06T16:25:56.511986",
     "status": "completed"
    },
    "tags": []
   },
   "source": [
    "### here, the date is given. so, we need to split it into year and month"
   ]
  },
  {
   "cell_type": "code",
   "execution_count": 23,
   "id": "5e5da94e",
   "metadata": {
    "execution": {
     "iopub.execute_input": "2022-05-06T16:25:56.652410Z",
     "iopub.status.busy": "2022-05-06T16:25:56.651925Z",
     "iopub.status.idle": "2022-05-06T16:25:56.663896Z",
     "shell.execute_reply": "2022-05-06T16:25:56.663228Z"
    },
    "papermill": {
     "duration": 0.061541,
     "end_time": "2022-05-06T16:25:56.665800",
     "exception": false,
     "start_time": "2022-05-06T16:25:56.604259",
     "status": "completed"
    },
    "tags": []
   },
   "outputs": [
    {
     "data": {
      "text/html": [
       "<div>\n",
       "<style scoped>\n",
       "    .dataframe tbody tr th:only-of-type {\n",
       "        vertical-align: middle;\n",
       "    }\n",
       "\n",
       "    .dataframe tbody tr th {\n",
       "        vertical-align: top;\n",
       "    }\n",
       "\n",
       "    .dataframe thead th {\n",
       "        text-align: right;\n",
       "    }\n",
       "</style>\n",
       "<table border=\"1\" class=\"dataframe\">\n",
       "  <thead>\n",
       "    <tr style=\"text-align: right;\">\n",
       "      <th></th>\n",
       "      <th>title</th>\n",
       "      <th>author</th>\n",
       "      <th>date</th>\n",
       "      <th>views</th>\n",
       "      <th>likes</th>\n",
       "      <th>link</th>\n",
       "      <th>view_to_like_ratio</th>\n",
       "    </tr>\n",
       "  </thead>\n",
       "  <tbody>\n",
       "    <tr>\n",
       "      <th>0</th>\n",
       "      <td>Climate action needs new frontline leadership</td>\n",
       "      <td>Ozawa Bineshi Albert</td>\n",
       "      <td>December 2021</td>\n",
       "      <td>404000</td>\n",
       "      <td>12000</td>\n",
       "      <td>https://ted.com/talks/ozawa_bineshi_albert_cli...</td>\n",
       "      <td>33.67</td>\n",
       "    </tr>\n",
       "    <tr>\n",
       "      <th>1</th>\n",
       "      <td>The dark history of the overthrow of Hawaii</td>\n",
       "      <td>Sydney Iaukea</td>\n",
       "      <td>February 2022</td>\n",
       "      <td>214000</td>\n",
       "      <td>6400</td>\n",
       "      <td>https://ted.com/talks/sydney_iaukea_the_dark_h...</td>\n",
       "      <td>33.44</td>\n",
       "    </tr>\n",
       "    <tr>\n",
       "      <th>2</th>\n",
       "      <td>How play can spark new ideas for your business</td>\n",
       "      <td>Martin Reeves</td>\n",
       "      <td>September 2021</td>\n",
       "      <td>412000</td>\n",
       "      <td>12000</td>\n",
       "      <td>https://ted.com/talks/martin_reeves_how_play_c...</td>\n",
       "      <td>34.33</td>\n",
       "    </tr>\n",
       "    <tr>\n",
       "      <th>3</th>\n",
       "      <td>Why is China appointing judges to combat clima...</td>\n",
       "      <td>James K. Thornton</td>\n",
       "      <td>October 2021</td>\n",
       "      <td>427000</td>\n",
       "      <td>12000</td>\n",
       "      <td>https://ted.com/talks/james_k_thornton_why_is_...</td>\n",
       "      <td>35.58</td>\n",
       "    </tr>\n",
       "    <tr>\n",
       "      <th>4</th>\n",
       "      <td>Cement's carbon problem — and 2 ways to fix it</td>\n",
       "      <td>Mahendra Singhi</td>\n",
       "      <td>October 2021</td>\n",
       "      <td>2400</td>\n",
       "      <td>72</td>\n",
       "      <td>https://ted.com/talks/mahendra_singhi_cement_s...</td>\n",
       "      <td>33.33</td>\n",
       "    </tr>\n",
       "  </tbody>\n",
       "</table>\n",
       "</div>"
      ],
      "text/plain": [
       "                                               title                author  \\\n",
       "0      Climate action needs new frontline leadership  Ozawa Bineshi Albert   \n",
       "1        The dark history of the overthrow of Hawaii         Sydney Iaukea   \n",
       "2     How play can spark new ideas for your business         Martin Reeves   \n",
       "3  Why is China appointing judges to combat clima...     James K. Thornton   \n",
       "4     Cement's carbon problem — and 2 ways to fix it       Mahendra Singhi   \n",
       "\n",
       "             date   views  likes  \\\n",
       "0   December 2021  404000  12000   \n",
       "1   February 2022  214000   6400   \n",
       "2  September 2021  412000  12000   \n",
       "3    October 2021  427000  12000   \n",
       "4    October 2021    2400     72   \n",
       "\n",
       "                                                link  view_to_like_ratio  \n",
       "0  https://ted.com/talks/ozawa_bineshi_albert_cli...               33.67  \n",
       "1  https://ted.com/talks/sydney_iaukea_the_dark_h...               33.44  \n",
       "2  https://ted.com/talks/martin_reeves_how_play_c...               34.33  \n",
       "3  https://ted.com/talks/james_k_thornton_why_is_...               35.58  \n",
       "4  https://ted.com/talks/mahendra_singhi_cement_s...               33.33  "
      ]
     },
     "execution_count": 23,
     "metadata": {},
     "output_type": "execute_result"
    }
   ],
   "source": [
    "df.head()"
   ]
  },
  {
   "cell_type": "code",
   "execution_count": 24,
   "id": "e666d948",
   "metadata": {
    "execution": {
     "iopub.execute_input": "2022-05-06T16:25:56.761913Z",
     "iopub.status.busy": "2022-05-06T16:25:56.761398Z",
     "iopub.status.idle": "2022-05-06T16:25:56.779881Z",
     "shell.execute_reply": "2022-05-06T16:25:56.778515Z"
    },
    "papermill": {
     "duration": 0.069211,
     "end_time": "2022-05-06T16:25:56.782193",
     "exception": false,
     "start_time": "2022-05-06T16:25:56.712982",
     "status": "completed"
    },
    "tags": []
   },
   "outputs": [
    {
     "name": "stderr",
     "output_type": "stream",
     "text": [
      "/opt/conda/lib/python3.7/site-packages/ipykernel_launcher.py:6: SettingWithCopyWarning: \n",
      "A value is trying to be set on a copy of a slice from a DataFrame.\n",
      "Try using .loc[row_indexer,col_indexer] = value instead\n",
      "\n",
      "See the caveats in the documentation: https://pandas.pydata.org/pandas-docs/stable/user_guide/indexing.html#returning-a-view-versus-a-copy\n",
      "  \n",
      "/opt/conda/lib/python3.7/site-packages/ipykernel_launcher.py:7: SettingWithCopyWarning: \n",
      "A value is trying to be set on a copy of a slice from a DataFrame.\n",
      "Try using .loc[row_indexer,col_indexer] = value instead\n",
      "\n",
      "See the caveats in the documentation: https://pandas.pydata.org/pandas-docs/stable/user_guide/indexing.html#returning-a-view-versus-a-copy\n",
      "  import sys\n"
     ]
    }
   ],
   "source": [
    "month=[]\n",
    "year=[]\n",
    "for i in range(len(data)):\n",
    "    month.append(data[i][2].split(' ')[0])\n",
    "    year.append(data[i][2].split(' ')[1])\n",
    "df['month']=month\n",
    "df['year']=year"
   ]
  },
  {
   "cell_type": "code",
   "execution_count": 25,
   "id": "eb85c053",
   "metadata": {
    "execution": {
     "iopub.execute_input": "2022-05-06T16:25:56.880081Z",
     "iopub.status.busy": "2022-05-06T16:25:56.879789Z",
     "iopub.status.idle": "2022-05-06T16:25:56.893163Z",
     "shell.execute_reply": "2022-05-06T16:25:56.892462Z"
    },
    "papermill": {
     "duration": 0.065127,
     "end_time": "2022-05-06T16:25:56.894934",
     "exception": false,
     "start_time": "2022-05-06T16:25:56.829807",
     "status": "completed"
    },
    "tags": []
   },
   "outputs": [
    {
     "data": {
      "text/html": [
       "<div>\n",
       "<style scoped>\n",
       "    .dataframe tbody tr th:only-of-type {\n",
       "        vertical-align: middle;\n",
       "    }\n",
       "\n",
       "    .dataframe tbody tr th {\n",
       "        vertical-align: top;\n",
       "    }\n",
       "\n",
       "    .dataframe thead th {\n",
       "        text-align: right;\n",
       "    }\n",
       "</style>\n",
       "<table border=\"1\" class=\"dataframe\">\n",
       "  <thead>\n",
       "    <tr style=\"text-align: right;\">\n",
       "      <th></th>\n",
       "      <th>title</th>\n",
       "      <th>author</th>\n",
       "      <th>date</th>\n",
       "      <th>views</th>\n",
       "      <th>likes</th>\n",
       "      <th>link</th>\n",
       "      <th>view_to_like_ratio</th>\n",
       "      <th>month</th>\n",
       "      <th>year</th>\n",
       "    </tr>\n",
       "  </thead>\n",
       "  <tbody>\n",
       "    <tr>\n",
       "      <th>0</th>\n",
       "      <td>Climate action needs new frontline leadership</td>\n",
       "      <td>Ozawa Bineshi Albert</td>\n",
       "      <td>December 2021</td>\n",
       "      <td>404000</td>\n",
       "      <td>12000</td>\n",
       "      <td>https://ted.com/talks/ozawa_bineshi_albert_cli...</td>\n",
       "      <td>33.67</td>\n",
       "      <td>December</td>\n",
       "      <td>2021</td>\n",
       "    </tr>\n",
       "    <tr>\n",
       "      <th>1</th>\n",
       "      <td>The dark history of the overthrow of Hawaii</td>\n",
       "      <td>Sydney Iaukea</td>\n",
       "      <td>February 2022</td>\n",
       "      <td>214000</td>\n",
       "      <td>6400</td>\n",
       "      <td>https://ted.com/talks/sydney_iaukea_the_dark_h...</td>\n",
       "      <td>33.44</td>\n",
       "      <td>February</td>\n",
       "      <td>2022</td>\n",
       "    </tr>\n",
       "    <tr>\n",
       "      <th>2</th>\n",
       "      <td>How play can spark new ideas for your business</td>\n",
       "      <td>Martin Reeves</td>\n",
       "      <td>September 2021</td>\n",
       "      <td>412000</td>\n",
       "      <td>12000</td>\n",
       "      <td>https://ted.com/talks/martin_reeves_how_play_c...</td>\n",
       "      <td>34.33</td>\n",
       "      <td>September</td>\n",
       "      <td>2021</td>\n",
       "    </tr>\n",
       "    <tr>\n",
       "      <th>3</th>\n",
       "      <td>Why is China appointing judges to combat clima...</td>\n",
       "      <td>James K. Thornton</td>\n",
       "      <td>October 2021</td>\n",
       "      <td>427000</td>\n",
       "      <td>12000</td>\n",
       "      <td>https://ted.com/talks/james_k_thornton_why_is_...</td>\n",
       "      <td>35.58</td>\n",
       "      <td>October</td>\n",
       "      <td>2021</td>\n",
       "    </tr>\n",
       "    <tr>\n",
       "      <th>4</th>\n",
       "      <td>Cement's carbon problem — and 2 ways to fix it</td>\n",
       "      <td>Mahendra Singhi</td>\n",
       "      <td>October 2021</td>\n",
       "      <td>2400</td>\n",
       "      <td>72</td>\n",
       "      <td>https://ted.com/talks/mahendra_singhi_cement_s...</td>\n",
       "      <td>33.33</td>\n",
       "      <td>October</td>\n",
       "      <td>2021</td>\n",
       "    </tr>\n",
       "  </tbody>\n",
       "</table>\n",
       "</div>"
      ],
      "text/plain": [
       "                                               title                author  \\\n",
       "0      Climate action needs new frontline leadership  Ozawa Bineshi Albert   \n",
       "1        The dark history of the overthrow of Hawaii         Sydney Iaukea   \n",
       "2     How play can spark new ideas for your business         Martin Reeves   \n",
       "3  Why is China appointing judges to combat clima...     James K. Thornton   \n",
       "4     Cement's carbon problem — and 2 ways to fix it       Mahendra Singhi   \n",
       "\n",
       "             date   views  likes  \\\n",
       "0   December 2021  404000  12000   \n",
       "1   February 2022  214000   6400   \n",
       "2  September 2021  412000  12000   \n",
       "3    October 2021  427000  12000   \n",
       "4    October 2021    2400     72   \n",
       "\n",
       "                                                link  view_to_like_ratio  \\\n",
       "0  https://ted.com/talks/ozawa_bineshi_albert_cli...               33.67   \n",
       "1  https://ted.com/talks/sydney_iaukea_the_dark_h...               33.44   \n",
       "2  https://ted.com/talks/martin_reeves_how_play_c...               34.33   \n",
       "3  https://ted.com/talks/james_k_thornton_why_is_...               35.58   \n",
       "4  https://ted.com/talks/mahendra_singhi_cement_s...               33.33   \n",
       "\n",
       "       month  year  \n",
       "0   December  2021  \n",
       "1   February  2022  \n",
       "2  September  2021  \n",
       "3    October  2021  \n",
       "4    October  2021  "
      ]
     },
     "execution_count": 25,
     "metadata": {},
     "output_type": "execute_result"
    }
   ],
   "source": [
    "df.head()"
   ]
  },
  {
   "cell_type": "code",
   "execution_count": 26,
   "id": "c4936e41",
   "metadata": {
    "execution": {
     "iopub.execute_input": "2022-05-06T16:25:56.997463Z",
     "iopub.status.busy": "2022-05-06T16:25:56.997062Z",
     "iopub.status.idle": "2022-05-06T16:25:57.005811Z",
     "shell.execute_reply": "2022-05-06T16:25:57.004851Z"
    },
    "papermill": {
     "duration": 0.061,
     "end_time": "2022-05-06T16:25:57.007929",
     "exception": false,
     "start_time": "2022-05-06T16:25:56.946929",
     "status": "completed"
    },
    "tags": []
   },
   "outputs": [
    {
     "data": {
      "text/plain": [
       "501"
      ]
     },
     "execution_count": 26,
     "metadata": {},
     "output_type": "execute_result"
    }
   ],
   "source": [
    "len(df[df['year']=='2020'])\n",
    "#it is  clear that 501 ted talks given in 2020"
   ]
  },
  {
   "cell_type": "markdown",
   "id": "41523f30",
   "metadata": {
    "papermill": {
     "duration": 0.048595,
     "end_time": "2022-05-06T16:25:57.107167",
     "exception": false,
     "start_time": "2022-05-06T16:25:57.058572",
     "status": "completed"
    },
    "tags": []
   },
   "source": [
    "# ted talk frequency of each year"
   ]
  },
  {
   "cell_type": "code",
   "execution_count": 27,
   "id": "9f83c076",
   "metadata": {
    "execution": {
     "iopub.execute_input": "2022-05-06T16:25:57.206402Z",
     "iopub.status.busy": "2022-05-06T16:25:57.206140Z",
     "iopub.status.idle": "2022-05-06T16:25:57.677626Z",
     "shell.execute_reply": "2022-05-06T16:25:57.676858Z"
    },
    "papermill": {
     "duration": 0.524128,
     "end_time": "2022-05-06T16:25:57.679972",
     "exception": false,
     "start_time": "2022-05-06T16:25:57.155844",
     "status": "completed"
    },
    "tags": []
   },
   "outputs": [
    {
     "data": {
      "text/plain": [
       "<AxesSubplot:xlabel='year'>"
      ]
     },
     "execution_count": 27,
     "metadata": {},
     "output_type": "execute_result"
    },
    {
     "data": {
      "image/png": "[encoded data removed]",
      "text/plain": [
       "<Figure size 432x288 with 1 Axes>"
      ]
     },
     "metadata": {
      "needs_background": "light"
     },
     "output_type": "display_data"
    }
   ],
   "source": [
    "df.groupby('year').size().sort_values(ascending=False).plot(kind='bar')"
   ]
  },
  {
   "cell_type": "code",
   "execution_count": 28,
   "id": "250af300",
   "metadata": {
    "execution": {
     "iopub.execute_input": "2022-05-06T16:25:57.782781Z",
     "iopub.status.busy": "2022-05-06T16:25:57.782204Z",
     "iopub.status.idle": "2022-05-06T16:25:57.982224Z",
     "shell.execute_reply": "2022-05-06T16:25:57.981397Z"
    },
    "papermill": {
     "duration": 0.254123,
     "end_time": "2022-05-06T16:25:57.984447",
     "exception": false,
     "start_time": "2022-05-06T16:25:57.730324",
     "status": "completed"
    },
    "tags": []
   },
   "outputs": [
    {
     "data": {
      "text/plain": [
       "<AxesSubplot:xlabel='month'>"
      ]
     },
     "execution_count": 28,
     "metadata": {},
     "output_type": "execute_result"
    },
    {
     "data": {
      "image/png": "[encoded data removed]",
      "text/plain": [
       "<Figure size 432x288 with 1 Axes>"
      ]
     },
     "metadata": {
      "needs_background": "light"
     },
     "output_type": "display_data"
    }
   ],
   "source": [
    "df.groupby('month').size().sort_values(ascending=False).plot(kind='bar')"
   ]
  },
  {
   "cell_type": "markdown",
   "id": "c4ba15c3",
   "metadata": {
    "papermill": {
     "duration": 0.050741,
     "end_time": "2022-05-06T16:25:58.088530",
     "exception": false,
     "start_time": "2022-05-06T16:25:58.037789",
     "status": "completed"
    },
    "tags": []
   },
   "source": [
    "# month wise analysis of 2018"
   ]
  },
  {
   "cell_type": "code",
   "execution_count": 29,
   "id": "62c8ad1c",
   "metadata": {
    "execution": {
     "iopub.execute_input": "2022-05-06T16:25:58.192725Z",
     "iopub.status.busy": "2022-05-06T16:25:58.191820Z",
     "iopub.status.idle": "2022-05-06T16:25:58.208393Z",
     "shell.execute_reply": "2022-05-06T16:25:58.207321Z"
    },
    "papermill": {
     "duration": 0.071129,
     "end_time": "2022-05-06T16:25:58.210698",
     "exception": false,
     "start_time": "2022-05-06T16:25:58.139569",
     "status": "completed"
    },
    "tags": []
   },
   "outputs": [
    {
     "data": {
      "text/html": [
       "<div>\n",
       "<style scoped>\n",
       "    .dataframe tbody tr th:only-of-type {\n",
       "        vertical-align: middle;\n",
       "    }\n",
       "\n",
       "    .dataframe tbody tr th {\n",
       "        vertical-align: top;\n",
       "    }\n",
       "\n",
       "    .dataframe thead th {\n",
       "        text-align: right;\n",
       "    }\n",
       "</style>\n",
       "<table border=\"1\" class=\"dataframe\">\n",
       "  <thead>\n",
       "    <tr style=\"text-align: right;\">\n",
       "      <th></th>\n",
       "      <th>title</th>\n",
       "      <th>author</th>\n",
       "      <th>date</th>\n",
       "      <th>views</th>\n",
       "      <th>likes</th>\n",
       "      <th>link</th>\n",
       "      <th>view_to_like_ratio</th>\n",
       "      <th>month</th>\n",
       "      <th>year</th>\n",
       "    </tr>\n",
       "  </thead>\n",
       "  <tbody>\n",
       "    <tr>\n",
       "      <th>440</th>\n",
       "      <td>The Trans Ban</td>\n",
       "      <td>Conversations with People Who Hate Me</td>\n",
       "      <td>April 2018</td>\n",
       "      <td>11000</td>\n",
       "      <td>349</td>\n",
       "      <td>https://ted.com/talks/conversations_with_peopl...</td>\n",
       "      <td>31.52</td>\n",
       "      <td>April</td>\n",
       "      <td>2018</td>\n",
       "    </tr>\n",
       "    <tr>\n",
       "      <th>791</th>\n",
       "      <td>What foods did your ancestors love?</td>\n",
       "      <td>Aparna Pallavi</td>\n",
       "      <td>December 2018</td>\n",
       "      <td>2100000</td>\n",
       "      <td>63000</td>\n",
       "      <td>https://ted.com/talks/aparna_pallavi_what_food...</td>\n",
       "      <td>33.33</td>\n",
       "      <td>December</td>\n",
       "      <td>2018</td>\n",
       "    </tr>\n",
       "    <tr>\n",
       "      <th>899</th>\n",
       "      <td>The benefits of expressing your emotions (cons...</td>\n",
       "      <td>Artūrs Miksons</td>\n",
       "      <td>November 2018</td>\n",
       "      <td>278000</td>\n",
       "      <td>8300</td>\n",
       "      <td>https://ted.com/talks/arturs_miksons_the_benef...</td>\n",
       "      <td>33.49</td>\n",
       "      <td>November</td>\n",
       "      <td>2018</td>\n",
       "    </tr>\n",
       "    <tr>\n",
       "      <th>962</th>\n",
       "      <td>Without farmers, you'd be hungry, naked and sober</td>\n",
       "      <td>Eric Sannerud</td>\n",
       "      <td>October 2018</td>\n",
       "      <td>2100000</td>\n",
       "      <td>63000</td>\n",
       "      <td>https://ted.com/talks/eric_sannerud_without_fa...</td>\n",
       "      <td>33.33</td>\n",
       "      <td>October</td>\n",
       "      <td>2018</td>\n",
       "    </tr>\n",
       "    <tr>\n",
       "      <th>997</th>\n",
       "      <td>How to design gender bias out of your workplace</td>\n",
       "      <td>Sara Sanford</td>\n",
       "      <td>November 2018</td>\n",
       "      <td>2300000</td>\n",
       "      <td>69000</td>\n",
       "      <td>https://ted.com/talks/sara_sanford_how_to_desi...</td>\n",
       "      <td>33.33</td>\n",
       "      <td>November</td>\n",
       "      <td>2018</td>\n",
       "    </tr>\n",
       "  </tbody>\n",
       "</table>\n",
       "</div>"
      ],
      "text/plain": [
       "                                                 title  \\\n",
       "440                                      The Trans Ban   \n",
       "791                What foods did your ancestors love?   \n",
       "899  The benefits of expressing your emotions (cons...   \n",
       "962  Without farmers, you'd be hungry, naked and sober   \n",
       "997    How to design gender bias out of your workplace   \n",
       "\n",
       "                                    author           date    views  likes  \\\n",
       "440  Conversations with People Who Hate Me     April 2018    11000    349   \n",
       "791                         Aparna Pallavi  December 2018  2100000  63000   \n",
       "899                         Artūrs Miksons  November 2018   278000   8300   \n",
       "962                          Eric Sannerud   October 2018  2100000  63000   \n",
       "997                           Sara Sanford  November 2018  2300000  69000   \n",
       "\n",
       "                                                  link  view_to_like_ratio  \\\n",
       "440  https://ted.com/talks/conversations_with_peopl...               31.52   \n",
       "791  https://ted.com/talks/aparna_pallavi_what_food...               33.33   \n",
       "899  https://ted.com/talks/arturs_miksons_the_benef...               33.49   \n",
       "962  https://ted.com/talks/eric_sannerud_without_fa...               33.33   \n",
       "997  https://ted.com/talks/sara_sanford_how_to_desi...               33.33   \n",
       "\n",
       "        month  year  \n",
       "440     April  2018  \n",
       "791  December  2018  \n",
       "899  November  2018  \n",
       "962   October  2018  \n",
       "997  November  2018  "
      ]
     },
     "execution_count": 29,
     "metadata": {},
     "output_type": "execute_result"
    }
   ],
   "source": [
    "df_new=df[df['year']=='2018']\n",
    "df_new.head()"
   ]
  },
  {
   "cell_type": "code",
   "execution_count": 30,
   "id": "dbccd243",
   "metadata": {
    "execution": {
     "iopub.execute_input": "2022-05-06T16:25:58.317056Z",
     "iopub.status.busy": "2022-05-06T16:25:58.316243Z",
     "iopub.status.idle": "2022-05-06T16:25:58.512592Z",
     "shell.execute_reply": "2022-05-06T16:25:58.511727Z"
    },
    "papermill": {
     "duration": 0.252408,
     "end_time": "2022-05-06T16:25:58.514933",
     "exception": false,
     "start_time": "2022-05-06T16:25:58.262525",
     "status": "completed"
    },
    "tags": []
   },
   "outputs": [
    {
     "data": {
      "text/plain": [
       "<AxesSubplot:xlabel='month'>"
      ]
     },
     "execution_count": 30,
     "metadata": {},
     "output_type": "execute_result"
    },
    {
     "data": {
      "image/png": "[encoded data removed]",
      "text/plain": [
       "<Figure size 432x288 with 1 Axes>"
      ]
     },
     "metadata": {
      "needs_background": "light"
     },
     "output_type": "display_data"
    }
   ],
   "source": [
    "df_new.groupby('month').size().sort_values(ascending=False).plot(kind='bar')"
   ]
  }
 ],
 "metadata": {
  "kernelspec": {
   "display_name": "Python 3",
   "language": "python",
   "name": "python3"
  },
  "language_info": {
   "codemirror_mode": {
    "name": "ipython",
    "version": 3
   },
   "file_extension": ".py",
   "mimetype": "text/x-python",
   "name": "python",
   "nbconvert_exporter": "python",
   "pygments_lexer": "ipython3",
   "version": "3.7.12"
  },
  "papermill": {
   "default_parameters": {},
   "duration": 15.786633,
   "end_time": "2022-05-06T16:25:59.188662",
   "environment_variables": {},
   "exception": null,
   "input_path": "__notebook__.ipynb",
   "output_path": "__notebook__.ipynb",
   "parameters": {},
   "start_time": "2022-05-06T16:25:43.402029",
   "version": "2.3.4"
  }
 },
 "nbformat": 4,
 "nbformat_minor": 5
}
